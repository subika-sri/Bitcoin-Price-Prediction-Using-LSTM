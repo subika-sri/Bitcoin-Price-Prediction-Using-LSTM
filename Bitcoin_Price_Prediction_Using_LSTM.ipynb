{
 "cells": [
  {
   "cell_type": "markdown",
   "id": "weekly-throat",
   "metadata": {},
   "source": [
    "Importing the required libraries "
   ]
  },
  {
   "cell_type": "code",
   "execution_count": 1,
   "id": "heard-wales",
   "metadata": {},
   "outputs": [],
   "source": [
    "import numpy as np\n",
    "import pandas as pd\n",
    "import math\n",
    "from sklearn.metrics import mean_squared_error\n",
    "from sklearn.preprocessing import MinMaxScaler\n",
    "from keras.models import Sequential\n",
    "from keras.layers import LSTM, Dense\n",
    "%matplotlib inline\n",
    "import matplotlib.pyplot as plt"
   ]
  },
  {
   "cell_type": "markdown",
   "id": "recognized-flesh",
   "metadata": {},
   "source": [
    "Loading the dataset and converting date column as index, as it is a timeseries data"
   ]
  },
  {
   "cell_type": "code",
   "execution_count": 2,
   "id": "desirable-adelaide",
   "metadata": {},
   "outputs": [],
   "source": [
    "bitcoin = pd.read_csv(r\"C:\\Users\\Admin\\Downloads\\BTC-INR.csv\")\n",
    "bitcoin = bitcoin.set_index(\"Date\")"
   ]
  },
  {
   "cell_type": "code",
   "execution_count": 3,
   "id": "yellow-springfield",
   "metadata": {},
   "outputs": [
    {
     "data": {
      "text/html": [
       "<div>\n",
       "<style scoped>\n",
       "    .dataframe tbody tr th:only-of-type {\n",
       "        vertical-align: middle;\n",
       "    }\n",
       "\n",
       "    .dataframe tbody tr th {\n",
       "        vertical-align: top;\n",
       "    }\n",
       "\n",
       "    .dataframe thead th {\n",
       "        text-align: right;\n",
       "    }\n",
       "</style>\n",
       "<table border=\"1\" class=\"dataframe\">\n",
       "  <thead>\n",
       "    <tr style=\"text-align: right;\">\n",
       "      <th></th>\n",
       "      <th>Open</th>\n",
       "      <th>High</th>\n",
       "      <th>Low</th>\n",
       "      <th>Close</th>\n",
       "      <th>Adj Close</th>\n",
       "      <th>Volume</th>\n",
       "    </tr>\n",
       "    <tr>\n",
       "      <th>Date</th>\n",
       "      <th></th>\n",
       "      <th></th>\n",
       "      <th></th>\n",
       "      <th></th>\n",
       "      <th></th>\n",
       "      <th></th>\n",
       "    </tr>\n",
       "  </thead>\n",
       "  <tbody>\n",
       "    <tr>\n",
       "      <th>2015-08-22</th>\n",
       "      <td>15361.229492</td>\n",
       "      <td>15512.753906</td>\n",
       "      <td>14703.763672</td>\n",
       "      <td>15211.223633</td>\n",
       "      <td>15211.223633</td>\n",
       "      <td>1.532142e+09</td>\n",
       "    </tr>\n",
       "    <tr>\n",
       "      <th>2015-08-23</th>\n",
       "      <td>15210.299805</td>\n",
       "      <td>15364.068359</td>\n",
       "      <td>14893.648438</td>\n",
       "      <td>15064.584961</td>\n",
       "      <td>15064.584961</td>\n",
       "      <td>1.215274e+09</td>\n",
       "    </tr>\n",
       "    <tr>\n",
       "      <th>2015-08-24</th>\n",
       "      <td>15060.821289</td>\n",
       "      <td>15062.604492</td>\n",
       "      <td>14058.517578</td>\n",
       "      <td>14061.992188</td>\n",
       "      <td>14061.992188</td>\n",
       "      <td>3.956203e+09</td>\n",
       "    </tr>\n",
       "    <tr>\n",
       "      <th>2015-08-25</th>\n",
       "      <td>14033.465820</td>\n",
       "      <td>14989.896484</td>\n",
       "      <td>13331.954102</td>\n",
       "      <td>14688.354492</td>\n",
       "      <td>14688.354492</td>\n",
       "      <td>4.049023e+09</td>\n",
       "    </tr>\n",
       "    <tr>\n",
       "      <th>2015-08-26</th>\n",
       "      <td>14719.308594</td>\n",
       "      <td>15291.668945</td>\n",
       "      <td>14610.535156</td>\n",
       "      <td>14917.085938</td>\n",
       "      <td>14917.085938</td>\n",
       "      <td>2.101052e+09</td>\n",
       "    </tr>\n",
       "  </tbody>\n",
       "</table>\n",
       "</div>"
      ],
      "text/plain": [
       "                    Open          High           Low         Close  \\\n",
       "Date                                                                 \n",
       "2015-08-22  15361.229492  15512.753906  14703.763672  15211.223633   \n",
       "2015-08-23  15210.299805  15364.068359  14893.648438  15064.584961   \n",
       "2015-08-24  15060.821289  15062.604492  14058.517578  14061.992188   \n",
       "2015-08-25  14033.465820  14989.896484  13331.954102  14688.354492   \n",
       "2015-08-26  14719.308594  15291.668945  14610.535156  14917.085938   \n",
       "\n",
       "               Adj Close        Volume  \n",
       "Date                                    \n",
       "2015-08-22  15211.223633  1.532142e+09  \n",
       "2015-08-23  15064.584961  1.215274e+09  \n",
       "2015-08-24  14061.992188  3.956203e+09  \n",
       "2015-08-25  14688.354492  4.049023e+09  \n",
       "2015-08-26  14917.085938  2.101052e+09  "
      ]
     },
     "execution_count": 3,
     "metadata": {},
     "output_type": "execute_result"
    }
   ],
   "source": [
    "bitcoin.head()"
   ]
  },
  {
   "cell_type": "code",
   "execution_count": 4,
   "id": "facial-killer",
   "metadata": {},
   "outputs": [
    {
     "data": {
      "text/plain": [
       "(1828, 6)"
      ]
     },
     "execution_count": 4,
     "metadata": {},
     "output_type": "execute_result"
    }
   ],
   "source": [
    "bitcoin.shape"
   ]
  },
  {
   "cell_type": "code",
   "execution_count": 5,
   "id": "silver-making",
   "metadata": {},
   "outputs": [
    {
     "data": {
      "text/plain": [
       "Open         1\n",
       "High         1\n",
       "Low          1\n",
       "Close        1\n",
       "Adj Close    1\n",
       "Volume       1\n",
       "dtype: int64"
      ]
     },
     "execution_count": 5,
     "metadata": {},
     "output_type": "execute_result"
    }
   ],
   "source": [
    "bitcoin.isnull().sum()"
   ]
  },
  {
   "cell_type": "markdown",
   "id": "respective-spider",
   "metadata": {},
   "source": [
    "Removing the null values"
   ]
  },
  {
   "cell_type": "code",
   "execution_count": 6,
   "id": "bored-program",
   "metadata": {},
   "outputs": [],
   "source": [
    "bitcoin = bitcoin.dropna()"
   ]
  },
  {
   "cell_type": "code",
   "execution_count": 7,
   "id": "architectural-employee",
   "metadata": {},
   "outputs": [
    {
     "data": {
      "text/plain": [
       "Open         float64\n",
       "High         float64\n",
       "Low          float64\n",
       "Close        float64\n",
       "Adj Close    float64\n",
       "Volume       float64\n",
       "dtype: object"
      ]
     },
     "execution_count": 7,
     "metadata": {},
     "output_type": "execute_result"
    }
   ],
   "source": [
    "bitcoin.dtypes"
   ]
  },
  {
   "cell_type": "markdown",
   "id": "sporting-leather",
   "metadata": {},
   "source": [
    "plotting the graph to show how High, Low, Open and Close prices in Our dataset changes along the date. x=Date y=INR"
   ]
  },
  {
   "cell_type": "code",
   "execution_count": 8,
   "id": "cloudy-internship",
   "metadata": {},
   "outputs": [
    {
     "data": {
      "text/plain": [
       "<AxesSubplot:title={'center':'Bitcoin Closing Price'}, xlabel='Date', ylabel='Close price'>"
      ]
     },
     "execution_count": 8,
     "metadata": {},
     "output_type": "execute_result"
    },
    {
     "data": {
      "image/png": "[encoded data removed]",
      "text/plain": [
       "<Figure size 1008x432 with 1 Axes>"
      ]
     },
     "metadata": {
      "needs_background": "light"
     },
     "output_type": "display_data"
    }
   ],
   "source": [
    "bitcoin.plot(use_index=True, y='Close', ylabel='Close price', title=\"Bitcoin Closing Price\", figsize=(14,6))"
   ]
  },
  {
   "cell_type": "markdown",
   "id": "through-cambridge",
   "metadata": {},
   "source": [
    "Normalizing the dataset using MinMaxScaler"
   ]
  },
  {
   "cell_type": "code",
   "execution_count": 9,
   "id": "fallen-funds",
   "metadata": {},
   "outputs": [
    {
     "data": {
      "text/plain": [
       "array([[0.00093045],\n",
       "       [0.00081173],\n",
       "       [0.        ],\n",
       "       ...,\n",
       "       [0.70978957],\n",
       "       [0.69187095],\n",
       "       [0.68623676]])"
      ]
     },
     "execution_count": 9,
     "metadata": {},
     "output_type": "execute_result"
    }
   ],
   "source": [
    "values = bitcoin['Close'].values.reshape(-1,1) #coverting it into arrays\n",
    "scaler = MinMaxScaler(feature_range=(0, 1))\n",
    "scaled_data = scaler.fit_transform(values)\n",
    "scaled_data"
   ]
  },
  {
   "cell_type": "markdown",
   "id": "stable-television",
   "metadata": {},
   "source": [
    "Timeseries dataset can't be splitted using normal train_test_split function as their outputs are dependent, so taking the first 80% of data as train data and the remaining 20% (last part) test data."
   ]
  },
  {
   "cell_type": "code",
   "execution_count": 10,
   "id": "regular-breed",
   "metadata": {},
   "outputs": [
    {
     "name": "stdout",
     "output_type": "stream",
     "text": [
      "1461 366\n"
     ]
    }
   ],
   "source": [
    "train_size = int(len(scaled_data) * 0.8)\n",
    "test_size = len(scaled_data) - train_size\n",
    "train, test = scaled_data[0:train_size,:], scaled_data[train_size:len(scaled_data),:]\n",
    "print(len(train), len(test))"
   ]
  },
  {
   "cell_type": "code",
   "execution_count": 11,
   "id": "improving-sister",
   "metadata": {},
   "outputs": [],
   "source": [
    "def create_dataset(dataset, look_back=1):\n",
    "    dataX, dataY = [], []\n",
    "    for i in range(len(dataset) - look_back):\n",
    "        a = dataset[i:(i + look_back),0]\n",
    "        dataX.append(a)\n",
    "        dataY.append(dataset[i + look_back,0])\n",
    "    print(len(dataY))\n",
    "    return np.array(dataX), np.array(dataY)"
   ]
  },
  {
   "cell_type": "code",
   "execution_count": 12,
   "id": "diagnostic-specialist",
   "metadata": {},
   "outputs": [
    {
     "name": "stdout",
     "output_type": "stream",
     "text": [
      "1460\n",
      "365\n"
     ]
    }
   ],
   "source": [
    "look_back = 1\n",
    "x_train, y_train = create_dataset(train, look_back)\n",
    "x_test, y_test = create_dataset(test, look_back)"
   ]
  },
  {
   "cell_type": "code",
   "execution_count": 13,
   "id": "running-boundary",
   "metadata": {},
   "outputs": [],
   "source": [
    "x_train = x_train.reshape(x_train.shape[0], 1, x_train.shape[1])\n",
    "x_test = x_test.reshape(x_test.shape[0], 1, x_test.shape[1])"
   ]
  },
  {
   "cell_type": "markdown",
   "id": "twelve-relaxation",
   "metadata": {},
   "source": [
    "Building an LSTM model "
   ]
  },
  {
   "cell_type": "code",
   "execution_count": 14,
   "id": "overall-friendship",
   "metadata": {},
   "outputs": [
    {
     "name": "stdout",
     "output_type": "stream",
     "text": [
      "Epoch 1/5\n",
      "146/146 [==============================] - 39s 4ms/step - loss: 0.0340\n",
      "Epoch 2/5\n",
      "146/146 [==============================] - 1s 4ms/step - loss: 4.2479e-04\n",
      "Epoch 3/5\n",
      "146/146 [==============================] - 1s 4ms/step - loss: 3.2865e-04\n",
      "Epoch 4/5\n",
      "146/146 [==============================] - 1s 4ms/step - loss: 3.1682e-04\n",
      "Epoch 5/5\n",
      "146/146 [==============================] - 1s 4ms/step - loss: 3.9603e-04\n"
     ]
    },
    {
     "data": {
      "text/plain": [
       "<keras.callbacks.History at 0x1b4dd16b2b0>"
      ]
     },
     "execution_count": 14,
     "metadata": {},
     "output_type": "execute_result"
    }
   ],
   "source": [
    "model = Sequential()\n",
    "model.add(LSTM(50, return_sequences = True, input_shape = (x_train.shape[1], 1), activation = 'tanh'))\n",
    "model.add(LSTM(50, return_sequences = False, activation = 'tanh'))\n",
    "model.add(Dense(25))\n",
    "model.add(Dense(1))\n",
    "model.compile(loss='mean_squared_error', optimizer='adam')\n",
    "model.fit(x_train, y_train, epochs=5, batch_size=10)"
   ]
  },
  {
   "cell_type": "markdown",
   "id": "unknown-helping",
   "metadata": {},
   "source": [
    "Validating the model"
   ]
  },
  {
   "cell_type": "code",
   "execution_count": 15,
   "id": "union-school",
   "metadata": {},
   "outputs": [
    {
     "name": "stdout",
     "output_type": "stream",
     "text": [
      "0.0003296027812860054\n",
      "0.018154965747310167\n"
     ]
    }
   ],
   "source": [
    "y_pred = model.predict(x_test)\n",
    "\n",
    "mse = mean_squared_error(y_test, y_pred)\n",
    "rmse = math.sqrt(mse)\n",
    "print(mse)\n",
    "print(rmse)"
   ]
  },
  {
   "cell_type": "code",
   "execution_count": 16,
   "id": "biblical-flour",
   "metadata": {},
   "outputs": [],
   "source": [
    "train = bitcoin[:train_size]\n",
    "valid = bitcoin[train_size+1:]\n",
    "predictions = scaler.inverse_transform(y_pred)\n",
    "valid['Predictions'] = predictions"
   ]
  },
  {
   "cell_type": "code",
   "execution_count": 17,
   "id": "likely-butter",
   "metadata": {},
   "outputs": [
    {
     "data": {
      "text/plain": [
       "<function matplotlib.pyplot.show(close=None, block=None)>"
      ]
     },
     "execution_count": 17,
     "metadata": {},
     "output_type": "execute_result"
    },
    {
     "data": {
      "image/png": "[encoded data removed]",
      "text/plain": [
       "<Figure size 432x288 with 1 Axes>"
      ]
     },
     "metadata": {
      "needs_background": "light"
     },
     "output_type": "display_data"
    }
   ],
   "source": [
    "ax = plt.gca()\n",
    "valid.plot(use_index=True, y='Close', ylabel='Close price', color='orange', ax=ax)\n",
    "valid.plot(use_index=True, y='Predictions', ylabel='Price predicted', color='black', ax=ax)\n",
    "plt.title(\"Bitcoin Closing Price\")\n",
    "plt.show"
   ]
  },
  {
   "cell_type": "markdown",
   "id": "awful-jimmy",
   "metadata": {},
   "source": [
    "As you can see the predicted and actual prices are more or less the same"
   ]
  },
  {
   "cell_type": "code",
   "execution_count": null,
   "id": "decent-monte",
   "metadata": {},
   "outputs": [],
   "source": []
  },
  {
   "cell_type": "code",
   "execution_count": null,
   "id": "traditional-tribute",
   "metadata": {},
   "outputs": [],
   "source": []
  }
 ],
 "metadata": {
  "kernelspec": {
   "display_name": "Python 3",
   "language": "python",
   "name": "python3"
  },
  "language_info": {
   "codemirror_mode": {
    "name": "ipython",
    "version": 3
   },
   "file_extension": ".py",
   "mimetype": "text/x-python",
   "name": "python",
   "nbconvert_exporter": "python",
   "pygments_lexer": "ipython3",
   "version": "3.8.5"
  }
 },
 "nbformat": 4,
 "nbformat_minor": 5
}
