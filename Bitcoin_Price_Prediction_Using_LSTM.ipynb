{
 "cells": [
  {
   "cell_type": "markdown",
   "id": "weekly-throat",
   "metadata": {},
   "source": [
    "Importing the required libraries "
   ]
  },
  {
   "cell_type": "code",
   "execution_count": 1,
   "id": "heard-wales",
   "metadata": {},
   "outputs": [],
   "source": [
    "import numpy as np\n",
    "import pandas as pd\n",
    "import math\n",
    "from sklearn.metrics import mean_squared_error\n",
    "from sklearn.preprocessing import MinMaxScaler\n",
    "from keras.models import Sequential\n",
    "from keras.layers import LSTM, Dense\n",
    "import matplotlib.pyplot as plt\n",
    "import plotly.io as pio\n",
    "pio.renderers.default = \"browser\"\n",
    "import plotly.graph_objects as go"
   ]
  },
  {
   "cell_type": "markdown",
   "id": "recognized-flesh",
   "metadata": {},
   "source": [
    "Loading the dataset and converting date column as index, as it is a timeseries data"
   ]
  },
  {
   "cell_type": "code",
   "execution_count": 2,
   "id": "desirable-adelaide",
   "metadata": {},
   "outputs": [],
   "source": [
    "bitcoin = pd.read_csv(r\"C:\\Users\\Admin\\Downloads\\BTC-INR.csv\")\n",
    "bitcoin = bitcoin.set_index(\"Date\")"
   ]
  },
  {
   "cell_type": "code",
   "execution_count": 3,
   "id": "yellow-springfield",
   "metadata": {},
   "outputs": [
    {
     "data": {
      "text/html": [
       "<div>\n",
       "<style scoped>\n",
       "    .dataframe tbody tr th:only-of-type {\n",
       "        vertical-align: middle;\n",
       "    }\n",
       "\n",
       "    .dataframe tbody tr th {\n",
       "        vertical-align: top;\n",
       "    }\n",
       "\n",
       "    .dataframe thead th {\n",
       "        text-align: right;\n",
       "    }\n",
       "</style>\n",
       "<table border=\"1\" class=\"dataframe\">\n",
       "  <thead>\n",
       "    <tr style=\"text-align: right;\">\n",
       "      <th></th>\n",
       "      <th>Open</th>\n",
       "      <th>High</th>\n",
       "      <th>Low</th>\n",
       "      <th>Close</th>\n",
       "      <th>Adj Close</th>\n",
       "      <th>Volume</th>\n",
       "    </tr>\n",
       "    <tr>\n",
       "      <th>Date</th>\n",
       "      <th></th>\n",
       "      <th></th>\n",
       "      <th></th>\n",
       "      <th></th>\n",
       "      <th></th>\n",
       "      <th></th>\n",
       "    </tr>\n",
       "  </thead>\n",
       "  <tbody>\n",
       "    <tr>\n",
       "      <th>2015-08-22</th>\n",
       "      <td>15361.229492</td>\n",
       "      <td>15512.753906</td>\n",
       "      <td>14703.763672</td>\n",
       "      <td>15211.223633</td>\n",
       "      <td>15211.223633</td>\n",
       "      <td>1.532142e+09</td>\n",
       "    </tr>\n",
       "    <tr>\n",
       "      <th>2015-08-23</th>\n",
       "      <td>15210.299805</td>\n",
       "      <td>15364.068359</td>\n",
       "      <td>14893.648438</td>\n",
       "      <td>15064.584961</td>\n",
       "      <td>15064.584961</td>\n",
       "      <td>1.215274e+09</td>\n",
       "    </tr>\n",
       "    <tr>\n",
       "      <th>2015-08-24</th>\n",
       "      <td>15060.821289</td>\n",
       "      <td>15062.604492</td>\n",
       "      <td>14058.517578</td>\n",
       "      <td>14061.992188</td>\n",
       "      <td>14061.992188</td>\n",
       "      <td>3.956203e+09</td>\n",
       "    </tr>\n",
       "    <tr>\n",
       "      <th>2015-08-25</th>\n",
       "      <td>14033.465820</td>\n",
       "      <td>14989.896484</td>\n",
       "      <td>13331.954102</td>\n",
       "      <td>14688.354492</td>\n",
       "      <td>14688.354492</td>\n",
       "      <td>4.049023e+09</td>\n",
       "    </tr>\n",
       "    <tr>\n",
       "      <th>2015-08-26</th>\n",
       "      <td>14719.308594</td>\n",
       "      <td>15291.668945</td>\n",
       "      <td>14610.535156</td>\n",
       "      <td>14917.085938</td>\n",
       "      <td>14917.085938</td>\n",
       "      <td>2.101052e+09</td>\n",
       "    </tr>\n",
       "  </tbody>\n",
       "</table>\n",
       "</div>"
      ],
      "text/plain": [
       "                    Open          High           Low         Close  \\\n",
       "Date                                                                 \n",
       "2015-08-22  15361.229492  15512.753906  14703.763672  15211.223633   \n",
       "2015-08-23  15210.299805  15364.068359  14893.648438  15064.584961   \n",
       "2015-08-24  15060.821289  15062.604492  14058.517578  14061.992188   \n",
       "2015-08-25  14033.465820  14989.896484  13331.954102  14688.354492   \n",
       "2015-08-26  14719.308594  15291.668945  14610.535156  14917.085938   \n",
       "\n",
       "               Adj Close        Volume  \n",
       "Date                                    \n",
       "2015-08-22  15211.223633  1.532142e+09  \n",
       "2015-08-23  15064.584961  1.215274e+09  \n",
       "2015-08-24  14061.992188  3.956203e+09  \n",
       "2015-08-25  14688.354492  4.049023e+09  \n",
       "2015-08-26  14917.085938  2.101052e+09  "
      ]
     },
     "execution_count": 3,
     "metadata": {},
     "output_type": "execute_result"
    }
   ],
   "source": [
    "bitcoin.head()"
   ]
  },
  {
   "cell_type": "code",
   "execution_count": 4,
   "id": "facial-killer",
   "metadata": {},
   "outputs": [
    {
     "data": {
      "text/plain": [
       "(1828, 6)"
      ]
     },
     "execution_count": 4,
     "metadata": {},
     "output_type": "execute_result"
    }
   ],
   "source": [
    "bitcoin.shape"
   ]
  },
  {
   "cell_type": "code",
   "execution_count": 5,
   "id": "silver-making",
   "metadata": {},
   "outputs": [
    {
     "data": {
      "text/plain": [
       "Open         1\n",
       "High         1\n",
       "Low          1\n",
       "Close        1\n",
       "Adj Close    1\n",
       "Volume       1\n",
       "dtype: int64"
      ]
     },
     "execution_count": 5,
     "metadata": {},
     "output_type": "execute_result"
    }
   ],
   "source": [
    "bitcoin.isnull().sum()"
   ]
  },
  {
   "cell_type": "markdown",
   "id": "respective-spider",
   "metadata": {},
   "source": [
    "Removing the null values"
   ]
  },
  {
   "cell_type": "code",
   "execution_count": 6,
   "id": "bored-program",
   "metadata": {},
   "outputs": [],
   "source": [
    "bitcoin = bitcoin.dropna()"
   ]
  },
  {
   "cell_type": "code",
   "execution_count": 7,
   "id": "architectural-employee",
   "metadata": {},
   "outputs": [
    {
     "data": {
      "text/plain": [
       "Open         float64\n",
       "High         float64\n",
       "Low          float64\n",
       "Close        float64\n",
       "Adj Close    float64\n",
       "Volume       float64\n",
       "dtype: object"
      ]
     },
     "execution_count": 7,
     "metadata": {},
     "output_type": "execute_result"
    }
   ],
   "source": [
    "bitcoin.dtypes"
   ]
  },
  {
   "cell_type": "markdown",
   "id": "sporting-leather",
   "metadata": {},
   "source": [
    "plotting the graph to show how High, Low, Open and Close prices in Our dataset changes along the date. x=Date y=INR"
   ]
  },
  {
   "cell_type": "code",
   "execution_count": 8,
   "id": "cloudy-internship",
   "metadata": {},
   "outputs": [
    {
     "data": {
      "image/svg+xml": [
       "<svg class=\"main-svg\" xmlns=\"http://www.w3.org/2000/svg\" xmlns:xlink=\"http://www.w3.org/1999/xlink\" width=\"700\" height=\"800\" style=\"\" viewBox=\"0 0 700 800\"><rect x=\"0\" y=\"0\" width=\"700\" height=\"800\" style=\"fill: rgb(255, 255, 255); fill-opacity: 1;\"/><defs id=\"defs-ad4ff0\"><g class=\"clips\"><clipPath id=\"clipad4ff0xyplot\" class=\"plotclip\"><rect width=\"530\" height=\"620\"/></clipPath><clipPath class=\"axesclip\" id=\"clipad4ff0x\"><rect x=\"80\" y=\"0\" width=\"530\" height=\"800\"/></clipPath><clipPath class=\"axesclip\" id=\"clipad4ff0y\"><rect x=\"0\" y=\"100\" width=\"700\" height=\"620\"/></clipPath><clipPath class=\"axesclip\" id=\"clipad4ff0xy\"><rect x=\"80\" y=\"100\" width=\"530\" height=\"620\"/></clipPath></g><g class=\"gradients\"/><g class=\"patterns\"/></defs><g class=\"bglayer\"><rect class=\"bg\" x=\"80\" y=\"100\" width=\"530\" height=\"620\" style=\"fill: rgb(229, 236, 246); fill-opacity: 1; stroke-width: 0;\"/></g><g class=\"layer-below\"><g class=\"imagelayer\"/><g class=\"shapelayer\"/></g><g class=\"cartesianlayer\"><g class=\"subplot xy\"><g class=\"layer-subplot\"><g class=\"shapelayer\"/><g class=\"imagelayer\"/></g><g class=\"gridlayer\"><g class=\"x\"><path class=\"xgrid crisp\" transform=\"translate(118.28999999999999,0)\" d=\"M0,100v620\" style=\"stroke: rgb(255, 255, 255); stroke-opacity: 1; stroke-width: 1px;\"/><path class=\"xgrid crisp\" transform=\"translate(224.47,0)\" d=\"M0,100v620\" style=\"stroke: rgb(255, 255, 255); stroke-opacity: 1; stroke-width: 1px;\"/><path class=\"xgrid crisp\" transform=\"translate(330.35,0)\" d=\"M0,100v620\" style=\"stroke: rgb(255, 255, 255); stroke-opacity: 1; stroke-width: 1px;\"/><path class=\"xgrid crisp\" transform=\"translate(436.23,0)\" d=\"M0,100v620\" style=\"stroke: rgb(255, 255, 255); stroke-opacity: 1; stroke-width: 1px;\"/><path class=\"xgrid crisp\" transform=\"translate(542.12,0)\" d=\"M0,100v620\" style=\"stroke: rgb(255, 255, 255); stroke-opacity: 1; stroke-width: 1px;\"/></g><g class=\"y\"><path class=\"ygrid crisp\" transform=\"translate(0,605)\" d=\"M80,0h530\" style=\"stroke: rgb(255, 255, 255); stroke-opacity: 1; stroke-width: 1px;\"/><path class=\"ygrid crisp\" transform=\"translate(0,514.64)\" d=\"M80,0h530\" style=\"stroke: rgb(255, 255, 255); stroke-opacity: 1; stroke-width: 1px;\"/><path class=\"ygrid crisp\" transform=\"translate(0,424.29)\" d=\"M80,0h530\" style=\"stroke: rgb(255, 255, 255); stroke-opacity: 1; stroke-width: 1px;\"/><path class=\"ygrid crisp\" transform=\"translate(0,333.94)\" d=\"M80,0h530\" style=\"stroke: rgb(255, 255, 255); stroke-opacity: 1; stroke-width: 1px;\"/><path class=\"ygrid crisp\" transform=\"translate(0,243.58)\" d=\"M80,0h530\" style=\"stroke: rgb(255, 255, 255); stroke-opacity: 1; stroke-width: 1px;\"/><path class=\"ygrid crisp\" transform=\"translate(0,153.23)\" d=\"M80,0h530\" style=\"stroke: rgb(255, 255, 255); stroke-opacity: 1; stroke-width: 1px;\"/></g></g><g class=\"zerolinelayer\"><path class=\"yzl zl crisp\" transform=\"translate(0,695.35)\" d=\"M80,0h530\" style=\"stroke: rgb(255, 255, 255); stroke-opacity: 1; stroke-width: 2px;\"/></g><path class=\"xlines-below\"/><path class=\"ylines-below\"/><g class=\"overlines-below\"/><g class=\"xaxislayer-below\"/><g class=\"yaxislayer-below\"/><g class=\"overaxes-below\"/><g class=\"plot\" transform=\"translate(80,100)\" clip-path=\"url(#clipad4ff0xyplot)\"><g class=\"scatterlayer mlayer\"><g class=\"trace scatter trace0ff94f\" style=\"stroke-miterlimit: 2; opacity: 1;\"><g class=\"fills\"/><g class=\"errorbars\"/><g class=\"lines\"><path class=\"js-line\" d=\"M0,588.48L1.45,588.65L1.74,588.44L4.06,588.27L4.35,588.12L15.96,587.67L16.25,587.44L17.41,587.51L17.7,587.3L19.44,586.42L19.73,586.07L20.89,584.66L21.18,583.41L21.47,583.16L21.76,583.86L22.05,584.17L22.92,583.93L23.21,585.28L23.5,586.07L23.79,585.26L24.08,585.3L26.11,585.74L26.4,585.6L27.56,585.51L27.85,584.75L29.01,584.02L29.3,584.47L29.59,584.55L31.04,583.42L31.33,582.81L31.91,582.82L32.2,581.64L32.78,582.2L33.07,581.89L33.36,581.29L34.23,581.48L34.52,581.52L35.39,582.29L35.68,582.13L36.26,581.76L36.55,582.91L38.58,582.38L38.87,582.49L40.9,581.82L41.19,581.82L42.06,582.27L42.35,584.2L43.22,583.51L43.51,583.71L43.8,582.45L44.09,582.79L44.38,583.68L45.83,583.18L46.12,583.65L47.87,584L48.16,583.46L50.48,583.53L50.77,583.3L52.22,582.27L52.51,582.32L53.38,581.79L53.67,582.31L55.7,582.04L55.99,582.45L57.44,582.8L57.73,582.76L68.17,582.62L68.46,582.58L71.94,581.36L72.23,582.02L73.97,581.81L74.26,581.91L78.33,581.56L78.62,581.98L80.94,581.02L81.23,579.3L82.39,579L82.68,579L83.84,577.68L84.13,577.96L85,577.89L85.29,577L85.87,573.98L86.16,574.51L86.45,574.31L86.74,572.05L87.32,572.44L87.61,572.21L88.19,574.99L88.48,577.2L89.35,574.96L89.64,576.05L89.93,575.25L90.22,575.56L90.51,575.86L91.38,574L91.67,575.36L92.54,574.73L92.83,575.82L93.12,575.13L93.7,575.66L93.99,575.71L95.15,575.24L95.44,575.31L96.31,574.92L96.6,575.15L99.5,575.63L99.79,576.55L100.37,578.86L100.66,578.27L100.95,577.89L102.4,577.62L102.69,577.5L105.3,577.9L105.59,577.72L109.37,578L109.66,577.31L111.4,576.54L111.69,576.52L112.56,576.9L112.85,576.93L116.04,577.25L116.33,577.06L118.07,576.99L118.36,576.95L120.39,576.76L120.68,576.01L122.42,576.07L122.71,576.12L123.58,576.22L123.87,575.48L124.74,575.51L125.03,574.86L127.06,573L127.35,574.6L128.22,573.88L128.51,574.15L130.83,573.57L131.12,572.5L132.57,572.57L132.86,572.14L135.18,572.25L135.47,572.03L136.34,571.58L136.63,572.04L140.99,570.79L141.28,569.79L141.86,567.1L142.15,567.81L142.44,567.89L143.02,566.7L143.31,565.28L144.18,565.77L144.47,564.71L145.05,563.16L145.34,559.94L145.92,567.6L146.5,567.3L146.79,567.58L147.08,567.34L147.37,571.37L148.53,570.05L148.82,569.77L149.11,567.5L149.69,567.7L149.98,567.84L150.56,566.91L150.85,567.04L151.14,567.86L152.88,567.15L153.17,565.77L155.2,563.07L155.49,563.15L156.07,565.51L156.36,565.03L156.65,565.19L157.52,564.93L157.81,564.23L160.13,560.03L160.42,560.93L162.74,557.14L163.03,557.03L164.19,561.79L164.48,560.01L165.35,558.51L165.64,558.31L166.51,566.56L166.8,564.7L167.09,564.24L167.38,562.29L167.67,564.34L167.96,564.65L168.25,567.65L168.83,566.79L169.12,564.66L169.7,564.89L169.99,565.28L171.15,561.79L171.44,562.04L171.74,562.39L172.03,560.84L172.61,561.21L172.9,560.86L173.77,560.27L174.06,561.32L174.93,560.9L175.22,560.58L176.67,559.39L176.96,560.1L178.41,557.13L178.7,556.97L179.86,552.17L180.15,550.75L181.02,548.97L181.31,545.26L182.18,541.58L182.47,545.31L183.05,542.86L183.34,545.06L183.63,545.18L183.92,542.08L185.66,527.35L185.95,523.87L186.82,535.94L187.11,532.53L187.4,529.59L187.69,531.86L187.98,528.72L188.27,525.26L189.72,512.02L190.01,515.85L191.17,509.5L191.46,517.89L191.75,516.39L192.04,522.62L192.33,523.49L192.62,522.04L192.91,518.05L193.2,521.18L193.49,519.93L193.78,516L194.07,516.96L194.36,516.41L194.65,515.39L195.52,523.21L195.81,521.01L196.1,520.33L196.97,524.29L197.26,522.19L198.42,519.08L198.71,521.85L199,520.31L199.29,521.85L199.58,526.27L199.87,527.18L200.16,525.51L200.74,530.4L201.03,537.22L201.32,539.23L201.61,530.6L201.9,528.03L202.19,529.36L202.48,513.42L202.78,517.76L203.36,515.94L203.65,515.26L204.23,521.86L204.52,517.97L204.81,514L205.1,516.39L205.39,515.5L205.68,512L206.26,517.43L206.55,514.65L206.84,512.11L208,496.95L208.29,498.93L208.58,497.45L208.87,489.58L210.32,468.48L210.61,469.79L211.77,479.46L212.06,476.67L212.35,475.24L212.64,469.94L213.51,468.63L213.8,468.83L214.96,453.86L215.25,462.92L215.54,462.8L215.83,472.8L216.7,462.33L216.99,473.51L217.28,473.58L217.57,476.55L217.86,475.17L218.15,475.87L218.44,483.09L218.73,503.96L219.02,490.01L219.31,490.37L219.6,491.59L219.89,477.53L221.05,489.08L221.34,484.35L221.63,487.55L221.92,479.85L222.21,480.25L222.5,470.65L223.08,472.53L223.37,467.35L223.95,465.26L224.24,467.63L224.53,471.11L224.82,467.97L225.11,466.23L225.69,459.15L225.98,454.47L226.27,454.39L226.56,453.3L227.43,424.9L227.72,429.39L228.01,428.01L228.3,430.68L228.59,431.08L228.88,427.75L229.46,418.15L229.75,418.83L230.04,421.16L230.33,432.86L230.62,426.69L230.91,422.41L231.49,426.32L231.78,414.56L232.07,415.74L232.36,406.17L233.81,379.34L234.11,390.33L234.69,376.58L234.98,385.68L235.85,420.2L236.14,401.46L236.43,399.29L236.72,379.67L237.01,363.17L237.59,366.56L237.88,359.32L238.75,353.47L239.04,360.91L239.62,338.52L239.91,322.75L241.65,272.6L241.94,265.35L242.52,248.92L242.81,178.78L243.1,73.28L243.39,112.76L243.68,153.28L243.97,145.2L244.26,102.97L244.55,88.67L244.84,117.6L245.13,113.96L245.42,82.83L245.71,31L246.29,40.97L246.58,80.97L247.45,195.37L248.03,192.65L248.32,189.73L248.61,129.56L248.9,136.62L249.19,172.57L249.48,172.72L249.77,221.86L250.93,159.27L251.22,148.59L251.8,93.89L252.09,123.92L252.38,160.37L253.25,209.68L253.54,193.65L253.83,182.75L254.12,199.65L254.41,198.83L254.7,263.07L254.99,272.46L255.28,264.3L255.57,260.69L255.86,223.44L256.15,260.9L256.44,279.88L256.73,282.34L257.02,268.71L257.6,274.52L257.89,266.79L258.18,256.86L258.47,270.83L258.76,304.61L259.05,301.95L259.34,330.33L259.92,329.58L260.21,355.59L260.5,393.84L261.66,341.39L261.95,344.74L262.24,359.04L262.53,336.17L262.82,345.74L263.11,320.42L264.56,269.57L264.85,261.25L266.31,312.86L266.6,292.06L268.05,256.87L268.34,256.19L268.63,255.4L268.92,279.31L270.08,334.52L270.37,313.56L272.11,362.94L272.4,353.94L273.27,332.46L273.56,338.65L273.85,334.68L274.14,340.89L274.43,345.95L276.46,394.03L276.75,386.95L277.04,376.44L277.33,393.96L277.91,400.72L278.2,392.66L278.49,389.36L278.78,396.68L279.36,389.92L279.65,362.69L279.94,362.59L280.23,359.93L280.52,349.83L280.81,357.03L281.1,360.91L283.13,304.45L283.42,327.96L284.29,314.03L284.58,311.91L285.16,320.2L285.45,317.13L285.74,301.92L286.03,302.56L286.32,297.81L288.06,338.35L288.35,336.42L288.64,329.75L288.93,329.34L289.22,333.64L289.8,347.57L290.09,341.93L290.38,342.05L290.67,333.88L290.96,336.3L291.25,348.27L292.41,370.27L292.7,369.9L292.99,378.08L293.28,366.37L293.57,369.73L294.73,361.71L295.02,367.7L295.89,361.52L296.19,362.76L296.48,365.6L296.77,388.35L297.06,384.84L297.35,394.7L297.64,401.31L297.93,391.25L298.22,396.84L299.38,386.44L299.67,387.02L299.96,388.79L300.25,408.84L300.83,406.1L301.12,403.06L301.99,411.78L302.28,403.06L303.15,390.04L303.44,393.15L303.73,390.63L304.6,382.23L304.89,384.81L305.18,386.23L306.05,402.65L306.34,402.34L306.92,398.57L307.21,386.6L308.08,362.56L308.37,367L308.95,365.01L309.24,355.54L309.53,332.97L309.82,341.34L310.11,348.72L310.98,340.65L311.27,341.83L312.72,377.58L313.01,376.48L313.59,386L313.88,399.78L314.17,391.35L314.46,402.88L314.75,399.43L315.33,396.16L315.62,399.43L316.49,386.98L316.78,391.95L317.07,389.34L317.36,396.39L317.94,394.1L318.23,388.4L319.68,370.65L319.97,370.81L320.26,372.34L320.55,369.62L321.71,357.29L322,375.17L322.87,393.46L323.16,391.03L323.45,388.18L323.74,387.94L324.03,388.31L324.32,383.29L324.9,382.9L325.19,383.75L325.48,389.54L326.64,375.63L327.22,376.35L327.52,378.76L327.81,383.69L328.1,382.87L328.39,376.32L328.97,379.07L329.26,378.3L329.55,376.94L330.13,378.37L330.42,376.59L330.71,373.66L331.29,374.94L331.58,373.31L331.87,372.26L332.16,374.45L332.74,386.48L333.03,386.1L333.32,385.93L333.61,375.51L334.19,377.92L334.48,380.24L334.77,380.74L335.06,379.96L335.35,380.18L336.8,381.45L337.09,381.24L337.38,381.04L337.67,384.76L338.54,384.1L338.83,384.91L339.12,385.81L339.41,385.24L339.7,384.03L340.28,381.81L340.57,382.78L340.86,386.26L341.44,385.23L341.73,385.44L342.02,386.87L342.89,414.54L343.18,414.73L343.47,412.98L343.76,437.56L344.63,455.62L344.92,456.55L345.79,474.44L346.08,472.98L346.37,459.54L346.66,460.16L346.95,468.82L347.24,462.73L347.53,464.86L347.82,471.35L348.11,469.07L348.4,475.53L348.98,485.08L349.27,483.26L349.56,478.81L351.3,490.12L351.59,489.66L351.88,480.66L352.46,475.71L352.75,464.44L353.04,471.88L353.62,468.64L353.91,466.15L354.78,479.78L355.07,471.4L355.94,477.72L356.23,474.26L356.52,470.66L356.81,473.83L357.1,474.18L357.39,474.56L357.68,467.29L357.97,468.38L358.26,467.64L358.56,466.72L359.43,478.94L359.72,482.39L360.01,476.82L360.59,477.99L360.88,477.29L361.17,477.61L361.46,475.33L362.04,480.33L362.33,479.34L362.62,480.1L363.49,479.84L363.78,480.42L364.36,484.08L364.65,483.33L364.94,484.5L365.52,481.67L365.81,483.52L366.1,483.31L366.39,483.34L366.68,485L366.97,485.85L367.26,477.47L367.84,476.72L368.13,477.94L369,479.31L369.29,478.66L369.58,478.38L369.87,476.96L370.74,466.95L371.03,468.17L371.61,462.41L371.9,473.06L372.19,471.1L372.77,471.47L373.06,472.03L373.64,471.4L373.93,471.95L374.22,474.85L375.09,471.29L375.38,471.95L375.67,470.01L375.96,470.39L376.25,472.21L377.12,472.42L377.41,471.95L377.7,469.21L378.28,470.33L378.57,468.41L378.86,468.24L379.15,470.34L379.73,469.24L380.02,469.66L380.31,471.93L381.76,466.52L382.05,466.67L382.34,465.35L382.63,443.41L384.37,429.11L384.66,432.46L384.95,429.01L385.24,437.44L386.11,433.86L386.4,436.34L387.27,429.25L387.56,429.09L388.43,425.33L388.72,419.71L389.3,430.18L389.89,429.1L390.18,428.57L390.47,429.83L390.76,427.19L391.34,422.66L391.63,415.08L391.92,413.11L392.21,414.22L392.5,415.15L393.37,399.53L393.66,393.82L394.82,341.4L395.11,335.06L395.98,364.26L396.27,335.02L397.14,353.69L397.43,347.33L397.72,345L398.01,342.95L398.3,323.53L398.59,318.86L398.88,320.96L399.17,322.19L399.46,333.26L399.75,325.82L400.04,326.15L400.33,320.53L400.62,338.82L400.91,353.98L401.49,351.01L401.78,343.19L402.36,354.46L402.65,344.04L402.94,346.83L403.23,339.53L403.52,336.76L403.81,320.89L404.68,301.1L404.97,310.27L405.84,276.47L406.13,258.95L406.71,250.81L407,226.03L407.29,188.16L407.58,246.52L407.87,208.87L408.16,222.82L408.74,265.89L409.03,259.17L409.32,223.57L409.9,255.86L410.19,248.74L410.48,241.25L411.06,205.95L411.35,219.82L411.64,243.99L411.93,229.37L412.22,242.49L412.51,277.7L412.8,257.98L413.09,301.32L413.38,294.07L413.67,263.53L413.96,267.37L414.25,260.03L415.41,289.53L415.7,285.75L415.99,288.3L416.28,300.51L416.86,299.7L417.15,296.56L418.89,215.81L419.18,227.65L419.47,211.36L420.05,214.61L420.34,230.95L420.63,225.49L420.93,228.79L421.22,245.43L421.51,270.09L422.09,261.92L422.38,266.5L422.67,262.83L422.96,241.44L423.54,268.11L423.83,266.13L424.12,257.63L424.7,267.81L424.99,257.92L425.86,287.34L426.44,283.22L426.73,279.09L427.31,248.98L427.6,250.82L427.89,251.68L428.18,260.08L428.76,257.23L429.05,260.22L429.34,266.9L429.63,266.25L429.92,260.05L430.79,263.29L431.08,262.19L431.66,267.38L431.95,264.23L433.11,284.15L433.4,318.97L434.85,337.21L435.14,330.65L435.72,325.56L436.01,330.3L436.88,339.76L437.17,330.53L437.46,330.59L437.75,319.17L438.04,319.97L438.33,328.24L438.62,327.76L438.91,328.74L439.2,325.79L439.49,330.31L439.78,335.9L440.07,334.94L440.36,339.28L440.65,338.79L440.94,331.47L441.23,331.23L441.52,336.81L441.81,355.25L442.1,354.96L442.39,318.18L442.97,289.66L443.26,299.52L443.55,293.4L443.84,300.73L444.42,299.53L444.71,298.27L445,301.12L445.29,294.33L446.16,297.89L446.45,311.43L446.74,311.15L447.03,303.37L447.32,312.19L447.9,308.24L448.19,312.23L449.35,325.28L449.64,328.94L451.09,366.76L451.38,363.91L451.67,362.39L452.55,343.76L452.84,349.97L454,361.13L454.29,355.11L455.16,351.72L455.45,358.06L456.03,364.7L456.32,364.43L456.61,363.19L457.77,382.25L458.06,361.94L458.93,364.37L459.22,354.07L460.38,362.17L460.67,360.11L460.96,359.21L461.25,355.82L462.41,370.18L462.7,357.23L463.28,355.07L463.57,343.35L463.86,329.93L464.15,334.55L464.44,341.93L465.31,332.71L465.6,335.12L465.89,312.77L466.47,315.71L466.76,308.77L467.05,308.33L467.34,315.9L467.63,317.5L467.92,314.11L469.08,325.72L469.37,318.33L470.53,287.9L470.82,293.32L471.11,291.95L471.4,293.52L471.69,295.89L471.98,300.41L472.27,286.17L473.43,268.49L473.72,277.86L474.3,262.71L474.59,266.43L474.88,262.13L475.75,282.96L476.04,267.36L476.33,283.64L476.91,280.77L477.2,281.52L477.49,273.05L477.78,281.24L478.07,292L478.94,312.57L479.23,314.95L479.52,316.16L479.81,305.14L480.1,303.85L480.39,304.65L480.68,292.43L480.97,290.39L481.26,297.46L482.13,330.11L482.42,330.24L482.71,428.19L483.3,421.6L483.59,415.26L483.88,427.02L484.17,420.6L484.46,417.9L485.04,383.58L485.33,384.05L485.62,396.39L486.2,364.23L486.49,366.43L486.78,368.61L487.65,393.64L487.94,376.3L488.23,376.22L488.52,366.76L489.39,358.26L489.68,361.45L490.55,343.64L490.84,344.93L491.42,359.3L491.71,355.45L492,359.53L492.29,360.53L492.58,365.8L493.45,344.52L493.74,346.65L494.03,357.22L494.32,356.1L494.61,349.67L495.77,330.69L496.06,327.04L496.35,327.05L496.64,296.08L496.93,300.37L497.22,291.55L497.51,287.42L497.8,291.74L498.09,290.79L498.67,276.17L498.96,254.97L499.54,268.1L499.83,296.55L500.12,300.26L500.41,295.56L500.7,279.43L500.99,263.37L501.28,275.59L501.57,273.92L502.44,262.58L502.73,270.36L503.89,293.56L504.18,290L504.47,294.04L504.76,280.56L505.63,264.38L505.92,272.55L506.21,248.5L506.5,272.17L506.79,266.72L507.08,261.25L507.37,265.39L507.66,265.8L508.82,257.89L509.11,275.4L509.4,270.02L509.69,270.21L509.98,273.24L510.56,266.13L510.85,268.21L511.14,270.5L511.43,275.39L512.01,274.86L512.3,264.98L512.59,266.41L512.88,276.65L513.75,286.3L514.04,282.98L514.33,281.82L514.63,283.43L514.92,280.77L516.08,289.21L516.37,279.35L516.66,282.26L516.95,276.15L517.82,281.45L518.11,280.37L518.98,283.25L519.27,285.18L519.56,285.7L519.85,285.44L520.14,284.54L520.43,285.88L520.72,279.64L522.17,260.81L522.46,223.93L522.75,226.09L523.04,220.16L523.33,220.03L523.62,212.04L523.91,197.28L524.2,221.23L525.36,196.73L525.65,202.13L525.94,196.96L526.23,199.61L526.52,193.55L526.81,210.71L527.1,204.03L527.39,197.01L527.68,197.36L527.97,194.09L528.26,192.91L528.55,181.54L530,206.08\" style=\"vector-effect: non-scaling-stroke; fill: none; stroke: rgb(31, 119, 180); stroke-opacity: 1; stroke-width: 2px; opacity: 1;\"/></g><g class=\"points\"/><g class=\"text\"/></g></g></g><g class=\"overplot\"/><path class=\"xlines-above crisp\" d=\"M0,0\" style=\"fill: none;\"/><path class=\"ylines-above crisp\" d=\"M0,0\" style=\"fill: none;\"/><g class=\"overlines-above\"/><g class=\"xaxislayer-above\"><g class=\"xtick\"><text text-anchor=\"middle\" x=\"0\" y=\"735\" transform=\"translate(118.28999999999999,0)\" style=\"font-family: 'Open Sans', verdana, arial, sans-serif; font-size: 14px; fill: rgb(42, 63, 95); fill-opacity: 1; white-space: pre; opacity: 1;\">2016</text></g><g class=\"xtick\"><text text-anchor=\"middle\" x=\"0\" y=\"735\" style=\"font-family: 'Open Sans', verdana, arial, sans-serif; font-size: 14px; fill: rgb(42, 63, 95); fill-opacity: 1; white-space: pre; opacity: 1;\" transform=\"translate(224.47,0)\">2017</text></g><g class=\"xtick\"><text text-anchor=\"middle\" x=\"0\" y=\"735\" style=\"font-family: 'Open Sans', verdana, arial, sans-serif; font-size: 14px; fill: rgb(42, 63, 95); fill-opacity: 1; white-space: pre; opacity: 1;\" transform=\"translate(330.35,0)\">2018</text></g><g class=\"xtick\"><text text-anchor=\"middle\" x=\"0\" y=\"735\" style=\"font-family: 'Open Sans', verdana, arial, sans-serif; font-size: 14px; fill: rgb(42, 63, 95); fill-opacity: 1; white-space: pre; opacity: 1;\" transform=\"translate(436.23,0)\">2019</text></g><g class=\"xtick\"><text text-anchor=\"middle\" x=\"0\" y=\"735\" style=\"font-family: 'Open Sans', verdana, arial, sans-serif; font-size: 14px; fill: rgb(42, 63, 95); fill-opacity: 1; white-space: pre; opacity: 1;\" transform=\"translate(542.12,0)\">2020</text></g></g><g class=\"yaxislayer-above\"><g class=\"ytick\"><text text-anchor=\"end\" x=\"79\" y=\"4.8999999999999995\" transform=\"translate(0,695.35)\" style=\"font-family: 'Open Sans', verdana, arial, sans-serif; font-size: 14px; fill: rgb(42, 63, 95); fill-opacity: 1; white-space: pre; opacity: 1;\">0</text></g><g class=\"ytick\"><text text-anchor=\"end\" x=\"79\" y=\"4.8999999999999995\" style=\"font-family: 'Open Sans', verdana, arial, sans-serif; font-size: 14px; fill: rgb(42, 63, 95); fill-opacity: 1; white-space: pre; opacity: 1;\" transform=\"translate(0,605)\">0.2M</text></g><g class=\"ytick\"><text text-anchor=\"end\" x=\"79\" y=\"4.8999999999999995\" style=\"font-family: 'Open Sans', verdana, arial, sans-serif; font-size: 14px; fill: rgb(42, 63, 95); fill-opacity: 1; white-space: pre; opacity: 1;\" transform=\"translate(0,514.64)\">0.4M</text></g><g class=\"ytick\"><text text-anchor=\"end\" x=\"79\" y=\"4.8999999999999995\" style=\"font-family: 'Open Sans', verdana, arial, sans-serif; font-size: 14px; fill: rgb(42, 63, 95); fill-opacity: 1; white-space: pre; opacity: 1;\" transform=\"translate(0,424.29)\">0.6M</text></g><g class=\"ytick\"><text text-anchor=\"end\" x=\"79\" y=\"4.8999999999999995\" style=\"font-family: 'Open Sans', verdana, arial, sans-serif; font-size: 14px; fill: rgb(42, 63, 95); fill-opacity: 1; white-space: pre; opacity: 1;\" transform=\"translate(0,333.94)\">0.8M</text></g><g class=\"ytick\"><text text-anchor=\"end\" x=\"79\" y=\"4.8999999999999995\" style=\"font-family: 'Open Sans', verdana, arial, sans-serif; font-size: 14px; fill: rgb(42, 63, 95); fill-opacity: 1; white-space: pre; opacity: 1;\" transform=\"translate(0,243.58)\">1M</text></g><g class=\"ytick\"><text text-anchor=\"end\" x=\"79\" y=\"4.8999999999999995\" style=\"font-family: 'Open Sans', verdana, arial, sans-serif; font-size: 14px; fill: rgb(42, 63, 95); fill-opacity: 1; white-space: pre; opacity: 1;\" transform=\"translate(0,153.23)\">1.2M</text></g></g><g class=\"overaxes-above\"/></g></g><g class=\"polarlayer\"/><g class=\"ternarylayer\"/><g class=\"geolayer\"/><g class=\"funnelarealayer\"/><g class=\"pielayer\"/><g class=\"iciclelayer\"/><g class=\"treemaplayer\"/><g class=\"sunburstlayer\"/><g class=\"glimages\"/><defs id=\"topdefs-ad4ff0\"><g class=\"clips\"/><clipPath id=\"legendad4ff0\"><rect width=\"78\" height=\"86\" x=\"0\" y=\"0\"/></clipPath></defs><g class=\"layer-above\"><g class=\"imagelayer\"/><g class=\"shapelayer\"/></g><g class=\"infolayer\"><g class=\"legend\" pointer-events=\"all\" transform=\"translate(610,634)\"><rect class=\"bg\" shape-rendering=\"crispEdges\" style=\"stroke: rgb(255, 255, 255); stroke-opacity: 0; fill: rgb(255, 255, 255); fill-opacity: 0; stroke-width: 0px;\" width=\"78\" height=\"86\" x=\"0\" y=\"0\"/><g class=\"scrollbox\" transform=\"\" clip-path=\"url(#legendad4ff0)\"><g class=\"groups\"><g class=\"traces\" transform=\"translate(0,14.5)\" style=\"opacity: 0.5;\"><text class=\"legendtext\" text-anchor=\"start\" x=\"40\" y=\"4.680000000000001\" style=\"font-family: 'Open Sans', verdana, arial, sans-serif; font-size: 12px; fill: rgb(42, 63, 95); fill-opacity: 1; white-space: pre;\">High</text><g class=\"layers\" style=\"opacity: 1;\"><g class=\"legendfill\"/><g class=\"legendlines\"><path class=\"js-line\" d=\"M5,0h30\" style=\"fill: none; stroke: rgb(44, 160, 44); stroke-opacity: 1; stroke-width: 2px;\"/></g><g class=\"legendsymbols\"><g class=\"legendpoints\"/></g></g><rect class=\"legendtoggle\" x=\"0\" y=\"-9.5\" width=\"72.359375\" height=\"19\" style=\"fill: rgb(0, 0, 0); fill-opacity: 0;\"/></g><g class=\"traces\" transform=\"translate(0,33.5)\" style=\"opacity: 0.5;\"><text class=\"legendtext\" text-anchor=\"start\" x=\"40\" y=\"4.680000000000001\" style=\"font-family: 'Open Sans', verdana, arial, sans-serif; font-size: 12px; fill: rgb(42, 63, 95); fill-opacity: 1; white-space: pre;\">Low</text><g class=\"layers\" style=\"opacity: 1;\"><g class=\"legendfill\"/><g class=\"legendlines\"><path class=\"js-line\" d=\"M5,0h30\" style=\"fill: none; stroke: rgb(214, 39, 40); stroke-opacity: 1; stroke-width: 2px;\"/></g><g class=\"legendsymbols\"><g class=\"legendpoints\"/></g></g><rect class=\"legendtoggle\" x=\"0\" y=\"-9.5\" width=\"72.359375\" height=\"19\" style=\"fill: rgb(0, 0, 0); fill-opacity: 0;\"/></g><g class=\"traces\" transform=\"translate(0,52.5)\" style=\"opacity: 0.5;\"><text class=\"legendtext\" text-anchor=\"start\" x=\"40\" y=\"4.680000000000001\" style=\"font-family: 'Open Sans', verdana, arial, sans-serif; font-size: 12px; fill: rgb(42, 63, 95); fill-opacity: 1; white-space: pre;\">Open</text><g class=\"layers\" style=\"opacity: 1;\"><g class=\"legendfill\"/><g class=\"legendlines\"><path class=\"js-line\" d=\"M5,0h30\" style=\"fill: none; stroke: rgb(255, 127, 14); stroke-opacity: 1; stroke-width: 2px;\"/></g><g class=\"legendsymbols\"><g class=\"legendpoints\"/></g></g><rect class=\"legendtoggle\" x=\"0\" y=\"-9.5\" width=\"72.359375\" height=\"19\" style=\"fill: rgb(0, 0, 0); fill-opacity: 0;\"/></g><g class=\"traces\" transform=\"translate(0,71.5)\" style=\"opacity: 1;\"><text class=\"legendtext\" text-anchor=\"start\" x=\"40\" y=\"4.680000000000001\" style=\"font-family: 'Open Sans', verdana, arial, sans-serif; font-size: 12px; fill: rgb(42, 63, 95); fill-opacity: 1; white-space: pre;\">Close</text><g class=\"layers\" style=\"opacity: 1;\"><g class=\"legendfill\"/><g class=\"legendlines\"><path class=\"js-line\" d=\"M5,0h30\" style=\"fill: none; stroke: rgb(31, 119, 180); stroke-opacity: 1; stroke-width: 2px;\"/></g><g class=\"legendsymbols\"><g class=\"legendpoints\"/></g></g><rect class=\"legendtoggle\" x=\"0\" y=\"-9.5\" width=\"72.359375\" height=\"19\" style=\"fill: rgb(0, 0, 0); fill-opacity: 0;\"/></g></g></g><rect class=\"scrollbar\" rx=\"20\" ry=\"3\" width=\"0\" height=\"0\" style=\"fill: rgb(128, 139, 164); fill-opacity: 1;\" x=\"0\" y=\"0\"/></g><g class=\"g-gtitle\"><text class=\"gtitle\" x=\"35\" y=\"50\" text-anchor=\"start\" dy=\"0em\" style=\"font-family: 'Open Sans', verdana, arial, sans-serif; font-size: 28px; fill: rgb(42, 63, 95); opacity: 1; font-weight: normal; white-space: pre;\">Closing price history</text></g><g class=\"g-xtitle\"><text class=\"xtitle\" x=\"345\" y=\"764.2\" text-anchor=\"middle\" style=\"font-family: 'Open Sans', verdana, arial, sans-serif; font-size: 16px; fill: rgb(42, 63, 95); opacity: 1; font-weight: normal; white-space: pre;\">Date</text></g><g class=\"g-ytitle\"><text class=\"ytitle\" transform=\"rotate(-90,18.096874999999997,410)\" x=\"18.096874999999997\" y=\"410\" text-anchor=\"middle\" style=\"font-family: 'Open Sans', verdana, arial, sans-serif; font-size: 16px; fill: rgb(42, 63, 95); opacity: 1; font-weight: normal; white-space: pre;\">Price in INR (₹)</text></g></g></svg>"
      ]
     },
     "metadata": {},
     "output_type": "display_data"
    }
   ],
   "source": [
    "fig = go.Figure()\n",
    "fig.add_trace(go.Scatter(x = bitcoin.index, y = bitcoin.High,mode='lines',name='High',marker_color = '#2CA02C',visible = \"legendonly\"))\n",
    "fig.add_trace(go.Scatter(x = bitcoin.index, y = bitcoin.Low,mode='lines',name='Low',marker_color = '#D62728',visible = \"legendonly\"))\n",
    "fig.add_trace(go.Scatter(x = bitcoin.index, y = bitcoin.Open,mode='lines',name='Open',marker_color = '#FF7F0E',visible = \"legendonly\"))\n",
    "fig.add_trace(go.Scatter(x = bitcoin.index, y = bitcoin.Close,mode='lines',name='Close',marker_color = '#1F77B4'))\n",
    "\n",
    "fig.update_layout(title='Closing price history',titlefont_size = 28,\n",
    "                  xaxis = dict(title='Date',titlefont_size=16,tickfont_size=14),height = 800,\n",
    "                  yaxis=dict(title='Price in INR (₹)',titlefont_size=16,tickfont_size=14),\n",
    "                  legend=dict(y=0,x=1.0,bgcolor='rgba(255, 255, 255, 0)',bordercolor='rgba(255, 255, 255, 0)'))\n",
    "#fig.show()\n",
    "fig.show(renderer=\"svg\")"
   ]
  },
  {
   "cell_type": "markdown",
   "id": "through-cambridge",
   "metadata": {},
   "source": [
    "Normalizing the dataset using MinMaxScaler"
   ]
  },
  {
   "cell_type": "code",
   "execution_count": 9,
   "id": "fallen-funds",
   "metadata": {},
   "outputs": [
    {
     "data": {
      "text/plain": [
       "array([[0.00093045],\n",
       "       [0.00081173],\n",
       "       [0.        ],\n",
       "       ...,\n",
       "       [0.70978957],\n",
       "       [0.69187095],\n",
       "       [0.68623676]])"
      ]
     },
     "execution_count": 9,
     "metadata": {},
     "output_type": "execute_result"
    }
   ],
   "source": [
    "values = bitcoin['Close'].values.reshape(-1,1) #coverting it into arrays\n",
    "scaler = MinMaxScaler(feature_range=(0, 1))\n",
    "scaled_data = scaler.fit_transform(values)\n",
    "scaled_data"
   ]
  },
  {
   "cell_type": "markdown",
   "id": "stable-television",
   "metadata": {},
   "source": [
    "Timeseries dataset can't be splitted using normal train_test_split function as their outputs are dependent, so taking the first 80% of data as train data and the remaining 20% (last part) test data."
   ]
  },
  {
   "cell_type": "code",
   "execution_count": 10,
   "id": "regular-breed",
   "metadata": {},
   "outputs": [
    {
     "name": "stdout",
     "output_type": "stream",
     "text": [
      "1461 366\n"
     ]
    }
   ],
   "source": [
    "train_size = int(len(scaled_data) * 0.8)\n",
    "test_size = len(scaled_data) - train_size\n",
    "train, test = scaled_data[0:train_size,:], scaled_data[train_size:len(scaled_data),:]\n",
    "print(len(train), len(test))"
   ]
  },
  {
   "cell_type": "code",
   "execution_count": 11,
   "id": "improving-sister",
   "metadata": {},
   "outputs": [],
   "source": [
    "def create_dataset(dataset, look_back=1):\n",
    "    dataX, dataY = [], []\n",
    "    for i in range(len(dataset) - look_back):\n",
    "        a = dataset[i:(i + look_back),0]\n",
    "        dataX.append(a)\n",
    "        dataY.append(dataset[i + look_back,0])\n",
    "    print(len(dataY))\n",
    "    return np.array(dataX), np.array(dataY)"
   ]
  },
  {
   "cell_type": "code",
   "execution_count": 12,
   "id": "diagnostic-specialist",
   "metadata": {},
   "outputs": [
    {
     "name": "stdout",
     "output_type": "stream",
     "text": [
      "1460\n",
      "365\n"
     ]
    }
   ],
   "source": [
    "look_back = 1\n",
    "x_train, y_train = create_dataset(train, look_back)\n",
    "x_test, y_test = create_dataset(test, look_back)"
   ]
  },
  {
   "cell_type": "code",
   "execution_count": 13,
   "id": "running-boundary",
   "metadata": {},
   "outputs": [],
   "source": [
    "x_train = x_train.reshape(x_train.shape[0], 1, x_train.shape[1])\n",
    "x_test = x_test.reshape(x_test.shape[0], 1, x_test.shape[1])"
   ]
  },
  {
   "cell_type": "markdown",
   "id": "twelve-relaxation",
   "metadata": {},
   "source": [
    "Building an LSTM model "
   ]
  },
  {
   "cell_type": "code",
   "execution_count": 14,
   "id": "overall-friendship",
   "metadata": {},
   "outputs": [
    {
     "name": "stdout",
     "output_type": "stream",
     "text": [
      "Epoch 1/5\n",
      "146/146 [==============================] - 28s 3ms/step - loss: 0.0404\n",
      "Epoch 2/5\n",
      "146/146 [==============================] - 1s 5ms/step - loss: 3.2426e-04\n",
      "Epoch 3/5\n",
      "146/146 [==============================] - 1s 4ms/step - loss: 3.3762e-04\n",
      "Epoch 4/5\n",
      "146/146 [==============================] - 1s 4ms/step - loss: 3.1674e-04\n",
      "Epoch 5/5\n",
      "146/146 [==============================] - 1s 3ms/step - loss: 3.4130e-04\n"
     ]
    },
    {
     "data": {
      "text/plain": [
       "<keras.callbacks.History at 0x1fb157af370>"
      ]
     },
     "execution_count": 14,
     "metadata": {},
     "output_type": "execute_result"
    }
   ],
   "source": [
    "model = Sequential()\n",
    "model.add(LSTM(50, return_sequences = True, input_shape = (x_train.shape[1], 1), activation = 'tanh'))\n",
    "model.add(LSTM(50, return_sequences = False, activation = 'tanh'))\n",
    "model.add(Dense(25))\n",
    "model.add(Dense(1))\n",
    "model.compile(loss='mean_squared_error', optimizer='adam')\n",
    "model.fit(x_train, y_train, epochs=5, batch_size=10)"
   ]
  },
  {
   "cell_type": "markdown",
   "id": "unknown-helping",
   "metadata": {},
   "source": [
    "Validating the model"
   ]
  },
  {
   "cell_type": "code",
   "execution_count": 15,
   "id": "union-school",
   "metadata": {},
   "outputs": [
    {
     "name": "stdout",
     "output_type": "stream",
     "text": [
      "0.0003530232221662743\n",
      "0.01878891221349108\n"
     ]
    }
   ],
   "source": [
    "predictions = model.predict(x_test)\n",
    "\n",
    "mse = mean_squared_error(y_test, predictions)\n",
    "rmse = math.sqrt(mse)\n",
    "print(mse)\n",
    "print(rmse)"
   ]
  },
  {
   "cell_type": "code",
   "execution_count": 16,
   "id": "wrapped-payroll",
   "metadata": {},
   "outputs": [
    {
     "name": "stderr",
     "output_type": "stream",
     "text": [
      "<ipython-input-16-f40f13dfbca9>:4: SettingWithCopyWarning:\n",
      "\n",
      "\n",
      "A value is trying to be set on a copy of a slice from a DataFrame.\n",
      "Try using .loc[row_indexer,col_indexer] = value instead\n",
      "\n",
      "See the caveats in the documentation: https://pandas.pydata.org/pandas-docs/stable/user_guide/indexing.html#returning-a-view-versus-a-copy\n",
      "\n"
     ]
    }
   ],
   "source": [
    "train = bitcoin[:train_size]\n",
    "valid = bitcoin[train_size+1:]\n",
    "predictions = scaler.inverse_transform(predictions)\n",
    "valid['Predictions'] = predictions"
   ]
  },
  {
   "cell_type": "code",
   "execution_count": 17,
   "id": "likely-butter",
   "metadata": {},
   "outputs": [
    {
     "data": {
      "image/svg+xml": [
       "<svg class=\"main-svg\" xmlns=\"http://www.w3.org/2000/svg\" xmlns:xlink=\"http://www.w3.org/1999/xlink\" width=\"700\" height=\"800\" style=\"\" viewBox=\"0 0 700 800\"><rect x=\"0\" y=\"0\" width=\"700\" height=\"800\" style=\"fill: rgb(255, 255, 255); fill-opacity: 1;\"/><defs id=\"defs-b425fd\"><g class=\"clips\"><clipPath id=\"clipb425fdxyplot\" class=\"plotclip\"><rect width=\"496\" height=\"620\"/></clipPath><clipPath class=\"axesclip\" id=\"clipb425fdx\"><rect x=\"80\" y=\"0\" width=\"496\" height=\"800\"/></clipPath><clipPath class=\"axesclip\" id=\"clipb425fdy\"><rect x=\"0\" y=\"100\" width=\"700\" height=\"620\"/></clipPath><clipPath class=\"axesclip\" id=\"clipb425fdxy\"><rect x=\"80\" y=\"100\" width=\"496\" height=\"620\"/></clipPath></g><g class=\"gradients\"/><g class=\"patterns\"/></defs><g class=\"bglayer\"><rect class=\"bg\" x=\"80\" y=\"100\" width=\"496\" height=\"620\" style=\"fill: rgb(229, 236, 246); fill-opacity: 1; stroke-width: 0;\"/></g><g class=\"layer-below\"><g class=\"imagelayer\"/><g class=\"shapelayer\"/></g><g class=\"cartesianlayer\"><g class=\"subplot xy\"><g class=\"layer-subplot\"><g class=\"shapelayer\"/><g class=\"imagelayer\"/></g><g class=\"gridlayer\"><g class=\"x\"><path class=\"xgrid crisp\" transform=\"translate(115.84,0)\" d=\"M0,100v620\" style=\"stroke: rgb(255, 255, 255); stroke-opacity: 1; stroke-width: 1px;\"/><path class=\"xgrid crisp\" transform=\"translate(215.2,0)\" d=\"M0,100v620\" style=\"stroke: rgb(255, 255, 255); stroke-opacity: 1; stroke-width: 1px;\"/><path class=\"xgrid crisp\" transform=\"translate(314.28999999999996,0)\" d=\"M0,100v620\" style=\"stroke: rgb(255, 255, 255); stroke-opacity: 1; stroke-width: 1px;\"/><path class=\"xgrid crisp\" transform=\"translate(413.38,0)\" d=\"M0,100v620\" style=\"stroke: rgb(255, 255, 255); stroke-opacity: 1; stroke-width: 1px;\"/><path class=\"xgrid crisp\" transform=\"translate(512.47,0)\" d=\"M0,100v620\" style=\"stroke: rgb(255, 255, 255); stroke-opacity: 1; stroke-width: 1px;\"/></g><g class=\"y\"><path class=\"ygrid crisp\" transform=\"translate(0,605)\" d=\"M80,0h496\" style=\"stroke: rgb(255, 255, 255); stroke-opacity: 1; stroke-width: 1px;\"/><path class=\"ygrid crisp\" transform=\"translate(0,514.64)\" d=\"M80,0h496\" style=\"stroke: rgb(255, 255, 255); stroke-opacity: 1; stroke-width: 1px;\"/><path class=\"ygrid crisp\" transform=\"translate(0,424.29)\" d=\"M80,0h496\" style=\"stroke: rgb(255, 255, 255); stroke-opacity: 1; stroke-width: 1px;\"/><path class=\"ygrid crisp\" transform=\"translate(0,333.94)\" d=\"M80,0h496\" style=\"stroke: rgb(255, 255, 255); stroke-opacity: 1; stroke-width: 1px;\"/><path class=\"ygrid crisp\" transform=\"translate(0,243.58)\" d=\"M80,0h496\" style=\"stroke: rgb(255, 255, 255); stroke-opacity: 1; stroke-width: 1px;\"/><path class=\"ygrid crisp\" transform=\"translate(0,153.23)\" d=\"M80,0h496\" style=\"stroke: rgb(255, 255, 255); stroke-opacity: 1; stroke-width: 1px;\"/></g></g><g class=\"zerolinelayer\"><path class=\"yzl zl crisp\" transform=\"translate(0,695.35)\" d=\"M80,0h496\" style=\"stroke: rgb(255, 255, 255); stroke-opacity: 1; stroke-width: 2px;\"/></g><path class=\"xlines-below\"/><path class=\"ylines-below\"/><g class=\"overlines-below\"/><g class=\"xaxislayer-below\"/><g class=\"yaxislayer-below\"/><g class=\"overaxes-below\"/><g class=\"plot\" transform=\"translate(80,100)\" clip-path=\"url(#clipb425fdxyplot)\"><g class=\"scatterlayer mlayer\"><g class=\"trace scatter trace77638c\" style=\"stroke-miterlimit: 2; opacity: 1;\"><g class=\"fills\"/><g class=\"errorbars\"/><g class=\"lines\"><path class=\"js-line\" d=\"M0,588.48L1.36,588.65L1.63,588.44L3.8,588.27L4.07,588.12L14.93,587.67L15.2,587.44L16.29,587.51L16.56,587.3L18.19,586.42L18.46,586.07L19.55,584.66L19.82,583.41L20.09,583.16L20.36,583.86L20.63,584.17L21.45,583.93L21.72,585.28L21.99,586.07L22.26,585.26L22.53,585.3L24.43,585.74L24.7,585.6L25.79,585.51L26.06,584.75L27.15,584.02L27.42,584.47L27.69,584.55L29.05,583.42L29.32,582.81L29.86,582.82L30.13,581.64L30.68,582.2L30.95,581.89L31.22,581.29L32.04,581.48L32.31,581.52L33.12,582.29L33.39,582.13L33.66,581.78L33.94,581.76L34.21,582.91L36.11,582.38L36.38,582.49L38.28,581.82L38.55,581.82L39.37,582.27L39.64,584.2L40.45,583.51L40.72,583.71L40.99,582.45L41.27,582.79L41.54,583.68L42.89,583.18L43.17,583.65L44.79,584L45.07,583.46L47.24,583.53L47.51,583.3L48.87,582.27L49.14,582.32L49.95,581.79L50.22,582.31L52.12,582.04L52.4,582.45L53.75,582.8L54.03,582.76L63.8,582.62L64.07,582.58L67.33,581.36L67.6,582.02L69.23,581.81L69.5,581.91L73.3,581.56L73.57,581.98L75.74,581.02L76.02,579.3L77.1,579L77.37,579L78.46,577.68L78.73,577.96L79.54,577.89L79.82,577L81.17,572.05L81.44,572.66L81.99,572.21L82.26,572.86L82.53,574.99L82.8,577.2L83.07,576.4L83.35,574.95L83.62,574.96L83.89,576.05L84.97,574.82L85.25,574.83L85.52,574L85.79,575.36L86.06,574.59L86.33,574.93L86.6,574.73L86.87,575.82L87.15,575.13L87.69,575.66L87.96,575.71L89.05,575.24L89.32,575.31L90.13,574.92L90.4,575.15L93.12,575.63L93.39,576.55L93.93,578.86L94.2,578.27L94.48,577.89L95.83,577.62L96.11,577.5L98.55,577.9L98.82,577.72L102.35,578L102.62,577.31L104.25,576.54L104.52,576.52L105.34,576.9L105.61,576.93L108.59,577.25L108.86,577.06L110.49,576.99L110.77,576.95L112.67,576.76L112.94,576.01L114.57,576.07L114.84,576.12L115.65,576.22L115.92,575.48L116.74,575.51L117.01,574.86L118.91,573L119.18,574.6L120,573.88L120.27,574.15L120.54,574.11L121.35,573.5L121.62,573.84L122.44,573.57L122.71,572.5L124.07,572.57L124.34,572.14L126.51,572.25L126.78,572.03L127.6,571.58L127.87,572.04L131.94,570.79L132.21,569.79L132.76,567.1L133.3,567.89L133.57,567.56L134.11,565.28L134.66,565.85L134.93,565.77L136.01,559.94L136.28,564.34L136.56,567.6L137.1,567.3L137.37,567.58L137.64,567.34L137.91,571.37L139.54,567.5L139.81,568.04L140.09,567.7L140.36,567.84L140.63,567.01L141.17,567.04L141.44,567.86L143.07,567.15L143.34,565.77L145.24,563.07L145.52,563.15L146.06,565.51L146.33,565.03L146.6,565.19L147.42,564.93L147.69,564.23L149.86,560.03L150.13,560.93L151.76,556.9L152.3,557.14L152.57,557.03L153.66,561.79L153.93,560.01L155.02,558.31L155.29,560.28L155.83,566.56L156.1,564.7L156.37,564.24L156.65,562.29L156.92,564.34L157.19,564.65L157.46,567.65L158,566.79L158.27,564.66L158.82,564.89L159.09,565.28L160.18,561.79L160.45,562.04L160.72,562.39L160.99,560.84L161.53,561.21L161.8,560.86L162.62,560.27L162.89,561.32L163.7,560.9L163.98,560.58L165.33,559.39L165.6,560.1L166.96,557.13L167.23,556.97L168.32,552.17L168.59,550.75L169.41,548.97L169.68,545.26L170.49,541.58L170.76,545.31L171.31,542.86L171.58,545.06L171.85,545.18L172.12,542.08L174.02,523.87L174.29,528.14L174.84,535.94L175.11,532.53L175.38,529.59L175.65,531.86L175.92,528.72L176.19,525.26L177.55,512.02L177.82,515.85L178.09,513.93L178.36,513.4L178.64,509.8L178.91,509.5L179.18,517.89L179.45,516.39L179.72,522.62L179.99,523.49L180.26,522.04L180.54,518.05L180.81,521.18L181.08,519.93L181.35,516L181.62,516.96L181.89,516.41L182.17,515.39L182.98,523.21L183.25,521.01L183.52,520.33L184.34,524.29L184.61,522.19L185.69,519.08L185.97,521.85L186.24,520.31L186.51,521.85L186.78,526.27L187.05,527.18L187.32,525.51L187.59,526.69L187.87,530.4L188.41,539.23L188.68,530.6L188.95,528.03L189.22,529.36L189.5,513.42L189.77,517.76L190.31,515.94L190.58,515.26L191.12,521.86L191.4,517.97L191.67,514L191.94,516.39L192.21,515.5L192.48,512L193.02,517.43L193.3,514.65L193.57,512.11L194.65,496.95L194.93,498.93L195.2,497.45L195.47,489.58L196.83,468.48L197.1,469.79L198.18,479.46L198.45,476.67L198.73,475.24L199,469.94L199.81,468.63L200.08,468.83L200.35,462.94L200.63,463.39L200.9,459.51L201.17,453.86L201.44,462.92L201.71,462.8L201.98,472.8L202.26,468.61L202.53,462.32L202.8,462.33L203.07,473.51L203.34,473.58L203.61,476.55L203.88,475.17L204.16,475.87L204.43,483.09L204.7,503.96L205.24,490.37L205.51,491.59L205.78,477.53L206.33,481.91L206.6,489.05L206.87,489.08L207.14,484.35L207.41,487.55L207.68,479.85L207.96,480.25L208.23,470.65L208.77,472.53L209.04,467.35L209.59,465.26L209.86,467.63L210.13,471.11L210.4,467.97L210.67,466.23L211.21,459.15L211.49,454.47L211.76,454.39L212.03,453.3L212.84,424.9L213.11,429.39L213.39,428.01L213.93,431.08L214.2,427.75L214.74,418.15L215.01,418.83L215.29,421.16L215.56,432.86L215.83,426.69L216.1,422.41L216.64,426.32L216.92,414.56L217.19,415.74L217.46,406.17L218.82,379.34L219.09,390.33L219.63,376.58L219.9,385.68L220.72,420.2L220.99,401.46L221.26,399.29L221.53,379.67L221.8,363.17L222.34,366.56L222.62,359.32L223.43,353.47L223.7,360.91L224.52,322.75L224.79,309.38L225.6,297.25L225.87,275.48L226.42,265.35L226.69,256.35L226.96,248.92L227.23,178.78L227.5,73.28L227.77,112.76L228.05,153.28L228.32,145.2L228.59,102.97L228.86,88.67L229.13,117.6L229.4,113.96L229.67,82.83L229.95,31L230.49,40.97L230.76,80.97L231.58,195.37L232.12,192.65L232.39,189.73L232.66,129.56L233.2,172.57L233.48,172.72L233.75,221.86L234.29,202.48L234.56,165.89L235.1,148.59L235.38,96.68L235.65,93.89L235.92,123.92L237,209.68L237.28,193.65L237.55,182.75L237.82,199.65L238.09,198.83L238.63,272.46L238.91,264.3L239.18,260.69L239.45,223.44L239.72,260.9L239.99,279.88L240.26,282.34L240.53,268.71L241.08,274.52L241.35,266.79L241.62,256.86L241.89,270.83L242.16,304.61L242.43,301.95L242.71,330.33L243.25,329.58L243.52,355.59L243.79,393.84L244.88,341.39L245.15,344.74L245.42,359.04L245.69,336.17L245.96,345.74L247.05,272.84L247.32,289.12L247.59,269.57L247.86,261.25L248.14,282.39L249.22,312.86L249.49,292.06L250.85,256.87L251.12,256.19L251.39,255.4L251.67,279.31L252.75,334.52L253.02,313.56L254.65,362.94L254.92,353.94L255.74,332.46L256.01,338.65L256.28,334.68L256.55,340.89L256.82,345.95L258.72,394.03L259,386.95L259.27,376.44L259.54,393.96L259.81,395.7L260.08,400.72L260.35,392.66L260.62,389.36L260.9,396.68L261.17,394.83L261.44,389.92L262.52,349.83L262.8,357.03L263.07,360.91L263.34,353.01L263.61,348.57L263.88,330.8L264.15,329.31L264.42,332.09L264.7,326.96L264.97,304.45L265.24,327.96L265.78,324.91L266.05,314.03L266.33,311.91L266.6,317.95L266.87,320.2L267.14,317.13L267.41,301.92L267.68,302.56L267.95,297.81L269.58,338.35L269.85,336.42L270.13,329.75L270.4,329.34L270.67,333.64L271.21,347.57L271.48,341.93L271.75,342.05L272.03,333.88L272.3,336.3L272.57,348.27L273.66,370.27L273.93,369.9L274.2,378.08L274.47,366.37L274.74,369.73L275.83,361.71L276.1,367.7L276.91,361.52L277.18,362.76L277.46,365.6L278.54,401.31L278.81,391.25L279.08,396.84L279.63,395.53L279.9,388.36L280.17,386.44L280.44,387.02L280.71,388.79L280.99,408.84L281.53,406.1L281.8,403.06L282.61,411.78L282.89,403.06L283.7,390.04L283.97,393.15L284.24,390.63L285.06,382.23L285.33,384.81L285.6,386.23L286.41,402.65L286.69,402.34L286.96,401.16L287.23,398.57L287.5,386.6L288.32,362.56L288.59,367L289.13,365.01L289.4,355.54L289.67,332.97L290.22,348.72L290.49,342.31L291.03,340.65L291.3,341.83L291.57,354.75L294.29,402.88L294.56,399.43L295.1,396.16L295.37,399.43L296.19,386.98L296.73,389.34L297,396.39L298.36,381.6L298.63,383.36L299.17,370.65L299.72,372.34L299.99,369.62L301.07,357.29L301.35,375.17L302.16,393.46L302.43,391.03L302.7,388.18L302.98,387.94L303.25,388.31L303.52,383.29L304.06,382.9L304.33,383.75L304.6,389.54L305.69,375.63L306.23,376.35L306.5,378.76L306.78,383.69L307.05,382.87L307.32,376.32L307.86,379.07L308.13,378.3L308.41,376.94L308.95,378.37L309.22,376.59L309.49,373.66L310.03,374.94L310.31,373.31L310.58,372.26L310.85,374.45L311.39,386.48L311.66,386.1L311.93,385.93L312.21,375.51L312.75,377.92L313.02,380.24L314.11,380.73L314.38,381.11L314.65,380.45L314.92,381.1L315.19,381.45L315.74,381.04L316.01,384.76L316.82,384.1L317.09,384.91L317.36,385.81L317.64,385.24L317.91,384.03L318.45,381.81L318.72,382.78L318.99,386.26L319.54,385.23L319.81,385.44L320.08,386.87L321.16,414.73L321.44,412.98L322.52,455.62L322.79,456.55L323.61,474.44L323.88,472.98L324.15,459.54L324.69,468.82L324.97,462.73L326.05,475.53L326.32,483.11L326.59,485.08L326.87,483.26L327.14,478.81L328.77,490.12L329.04,489.66L329.31,480.66L330.12,464.44L330.4,471.88L331.21,466.15L331.48,474.48L331.75,473.1L332.02,479.78L332.3,471.4L332.84,473.25L333.11,477.72L333.65,470.66L333.92,473.83L334.2,474.18L334.47,474.56L334.74,467.29L335.01,468.38L335.28,467.64L335.55,466.72L336.64,482.39L336.91,476.82L337.18,478.73L337.73,477.29L338,477.61L338.27,475.33L338.54,479.46L338.81,480.33L339.35,480.1L339.63,479.85L340.44,480.42L340.71,483.88L340.98,484.08L341.25,483.33L341.53,484.5L341.8,482.74L342.07,481.67L343.43,485.85L343.7,477.47L344.24,476.72L344.51,477.94L345.33,479.31L345.6,478.66L345.87,478.38L346.14,476.96L346.96,466.95L347.23,468.17L347.77,462.41L348.04,473.06L348.31,471.1L348.86,471.47L349.13,472.03L349.67,471.4L349.94,471.95L350.21,474.85L351.03,471.29L351.3,471.95L351.57,470.01L351.84,470.39L352.11,472.21L352.93,472.42L353.2,471.95L354.29,468.41L354.56,468.24L354.83,470.34L355.37,469.24L355.64,469.66L355.91,471.93L356.19,471.03L356.46,467.82L356.73,468.16L357,466.78L357.54,466.67L357.81,465.35L358.9,437.82L359.17,437.1L360.26,429.01L360.53,437.44L361.34,433.86L361.62,436.34L362.7,429.09L362.97,428.02L363.24,428.8L363.52,425.33L363.79,419.71L364.06,422.27L364.33,430.18L365.15,428.57L365.42,429.83L366.77,413.11L367.05,414.22L367.32,415.15L368.4,393.82L368.67,367.73L368.95,375.07L369.22,346.06L369.76,335.06L370.03,345.15L370.57,364.26L370.85,335.02L371.66,353.69L371.93,347.33L372.2,345L372.48,342.95L372.75,323.53L373.02,318.86L373.56,322.19L373.83,333.26L374.65,320.53L374.92,338.82L375.19,353.98L375.73,351.01L376,343.19L376.55,354.46L376.82,344.04L377.09,346.83L377.36,339.53L377.63,336.76L377.9,320.89L378.72,301.1L378.99,310.27L379.81,276.47L380.08,258.95L380.62,250.81L380.89,226.03L381.16,188.16L381.43,246.52L381.71,208.87L381.98,222.82L382.52,265.89L382.79,259.17L383.06,223.57L383.61,255.86L383.88,248.74L384.15,241.25L384.69,205.95L384.96,219.82L385.23,243.99L385.51,229.37L385.78,242.49L386.05,277.7L386.32,257.98L386.59,301.32L386.86,294.07L387.14,263.53L387.41,267.37L387.68,260.03L389.58,300.51L389.85,298.09L390.12,299.7L390.39,296.56L392.56,211.36L392.84,214.33L393.11,214.61L393.38,230.95L393.65,225.49L393.92,228.79L394.19,245.43L394.47,270.09L395.01,261.92L395.28,266.5L395.55,262.83L395.82,241.44L396.37,268.11\" style=\"vector-effect: non-scaling-stroke; fill: none; stroke: rgb(31, 119, 180); stroke-opacity: 1; stroke-width: 2px; opacity: 1;\"/></g><g class=\"points\"/><g class=\"text\"/></g><g class=\"trace scatter trace4c8ddc\" style=\"stroke-miterlimit: 2; opacity: 1;\"><g class=\"fills\"/><g class=\"errorbars\"/><g class=\"lines\"><path class=\"js-line\" d=\"M396.91,257.63L397.45,267.81L397.72,257.92L398.54,287.34L399.08,283.22L399.35,279.09L399.89,248.98L400.44,251.68L400.71,260.08L400.98,254.78L401.25,257.23L401.52,260.22L401.8,266.9L402.07,266.25L402.34,260.05L403.15,263.29L403.42,262.19L403.97,267.38L404.24,264.23L405.32,284.15L405.6,318.97L406.95,337.21L407.22,330.65L407.77,325.56L408.04,330.3L408.85,339.76L409.13,330.53L409.4,330.59L409.67,319.17L409.94,319.97L410.21,328.24L410.48,327.76L410.75,328.74L411.03,325.79L412.11,339.28L412.38,338.79L412.65,331.47L412.93,331.23L413.2,336.81L413.47,355.25L413.74,354.96L414.01,318.18L414.56,289.66L415.1,293.4L415.37,300.73L415.91,299.53L416.18,298.27L416.46,301.12L416.73,294.33L417.54,297.89L417.81,311.43L418.08,311.15L418.36,303.37L418.63,312.19L419.17,308.24L419.44,312.23L420.53,325.28L420.8,328.94L422.16,366.76L422.43,363.91L422.7,362.39L423.51,343.76L423.79,349.97L424.06,354.69L424.87,361.13L425.14,355.11L425.96,351.72L426.23,358.06L426.77,364.7L427.04,364.43L427.31,363.19L428.4,382.25L428.67,361.94L429.49,364.37L429.76,354.07L430.84,362.17L431.12,360.11L431.66,355.82L431.93,360.36L432.74,370.18L433.02,357.23L433.56,355.07L433.83,343.35L434.1,329.93L434.37,334.55L434.64,341.93L435.46,332.71L435.73,335.12L436,312.77L436.55,315.71L436.82,308.77L437.09,308.33L437.36,315.9L437.63,317.5L437.9,314.11L438.99,325.72L439.26,318.33L440.35,287.9L440.62,293.32L440.89,291.95L441.16,293.52L441.43,295.89L441.7,300.41L441.97,286.17L443.06,268.49L443.33,277.86L444.42,262.13L444.69,275.79L444.96,274.33L445.23,282.96L445.5,267.36L445.78,283.64L446.05,283.32L446.86,273.05L447.13,281.24L448.49,314.95L448.76,316.16L450.12,290.39L450.39,297.46L451.21,330.11L451.48,330.24L451.75,428.19L452.29,421.6L452.56,415.26L452.83,427.02L453.11,420.6L453.38,417.9L453.92,383.58L454.19,384.05L454.46,396.39L455.01,364.23L455.28,366.43L455.55,368.61L456.36,393.64L456.63,376.3L456.91,376.22L457.18,366.76L457.99,358.26L458.26,361.45L459.08,343.64L459.35,344.93L459.89,359.3L460.16,355.45L460.44,359.53L460.71,360.53L460.98,365.8L461.79,344.52L462.06,346.65L462.34,357.22L462.88,349.67L463.15,340.27L464.51,327.05L464.78,296.08L465.05,300.37L465.32,291.55L465.59,287.42L465.87,291.74L466.14,290.79L466.68,276.17L466.95,254.97L467.49,268.1L467.77,296.55L468.04,300.26L468.31,295.56L468.58,279.43L468.85,263.37L469.39,273.92L469.67,264.05L470.21,262.58L470.48,270.36L471.57,293.56L471.84,290L472.11,294.04L472.38,280.56L473.2,264.38L473.47,272.55L473.74,248.5L474.28,266.72L474.55,261.25L475.1,265.8L475.37,262.41L475.64,262.48L476.18,257.89L476.45,275.4L476.72,270.02L477.27,273.24L477.54,270.96L477.81,266.13L478.08,268.21L478.35,270.5L478.63,275.39L479.17,274.86L479.44,264.98L479.71,266.41L479.98,276.65L480.8,286.3L481.07,282.98L481.34,281.82L481.88,280.77L482.15,286.68L482.43,288.76L482.7,287.24L482.97,289.21L483.24,279.35L483.51,282.26L483.78,276.15L484.6,281.45L484.87,280.37L486.23,285.7L486.5,285.44L486.77,284.54L487.04,285.88L487.31,279.64L488.67,260.81L488.94,223.93L489.21,226.09L489.48,220.16L489.76,220.03L490.03,212.04L490.3,197.28L490.57,221.23L490.84,213.45L491.66,196.73L491.93,202.13L492.2,196.96L492.47,199.61L492.74,193.55L493.01,210.71L493.29,204.03L493.56,197.01L493.83,197.36L494.1,194.09L494.37,192.91L494.64,181.54L496,206.08\" style=\"vector-effect: non-scaling-stroke; fill: none; stroke: rgb(255, 127, 14); stroke-opacity: 1; stroke-width: 2px; opacity: 1;\"/></g><g class=\"points\"/><g class=\"text\"/></g><g class=\"trace scatter tracede944c\" style=\"stroke-miterlimit: 2; opacity: 1;\"><g class=\"fills\"/><g class=\"errorbars\"/><g class=\"lines\"><path class=\"js-line\" d=\"M396.91,262.7L397.18,254.05L397.45,262.27L397.72,264.42L397.99,254.35L398.27,262.71L398.54,275.64L398.81,284.32L399.35,280.12L399.62,275.92L400.17,245.24L400.71,247.98L400.98,256.55L401.25,251.14L401.52,253.65L401.8,256.69L402.07,263.49L402.34,262.83L402.61,256.51L403.42,259.82L403.7,258.69L404.24,263.98L404.51,260.77L405.6,281.07L405.87,316.57L407.22,335.18L407.5,328.49L408.04,323.3L408.31,328.14L409.13,337.78L409.4,328.37L409.67,328.43L409.94,316.79L410.21,317.6L410.48,326.03L410.75,325.55L411.03,326.54L411.3,323.54L412.38,337.3L412.65,336.79L412.93,329.33L413.2,329.08L413.47,334.77L413.74,353.59L414.01,353.29L414.28,315.77L414.83,286.69L415.37,290.5L415.64,297.97L416.18,296.75L416.46,295.46L416.73,298.37L417,291.45L417.81,295.08L418.08,308.89L418.36,308.6L418.63,300.67L418.9,309.66L419.44,305.63L419.71,309.71L420.8,323.01L421.07,326.75L422.43,365.33L422.7,362.42L422.97,360.87L423.79,341.87L424.06,348.2L424.33,353.02L425.14,359.59L425.41,353.45L426.23,349.99L426.5,356.46L427.04,363.23L427.31,362.95L427.59,361.69L428.67,381.13L428.94,360.42L429.76,362.89L430.03,352.39L431.12,360.65L431.39,358.55L431.93,354.17L432.2,358.8L433.02,368.82L433.29,355.61L433.83,353.41L434.1,341.45L434.37,327.76L434.64,332.47L434.92,340L435.73,330.6L436,333.05L436.27,310.26L436.82,313.25L437.09,306.17L437.36,305.72L437.63,313.45L437.9,315.08L438.17,311.62L439.26,323.46L439.53,315.93L440.62,284.89L440.89,290.42L441.16,289.02L441.43,290.62L441.7,293.04L441.97,297.65L442.25,283.13L443.33,265.12L443.6,274.65L444.69,258.63L444.96,272.55L445.23,271.06L445.5,279.86L445.78,263.96L446.05,280.55L446.32,280.23L447.13,269.76L447.4,278.11L448.76,312.48L449.03,313.71L450.39,287.43L450.66,294.64L451.48,327.94L451.75,328.07L452.02,427.96L452.56,421.24L452.83,414.78L453.11,426.76L453.38,420.22L453.65,417.47L454.19,382.48L454.46,382.96L454.73,395.55L455.28,362.75L455.55,364.99L455.82,367.22L456.63,392.74L456.91,375.06L457.18,374.98L457.45,365.33L458.26,356.65L458.54,359.91L459.35,341.75L459.62,343.06L460.16,357.72L460.44,353.79L460.71,357.96L460.98,358.97L461.25,364.35L462.06,342.64L462.34,344.82L462.61,355.6L463.15,347.89L463.42,338.31L464.78,324.82L465.05,293.23L465.32,297.61L465.59,288.61L465.87,284.4L466.14,288.81L466.41,287.84L466.95,272.94L467.22,251.33L467.77,264.71L468.04,293.71L468.31,297.49L468.58,292.71L468.85,276.26L469.12,259.89L469.67,270.64L469.94,260.59L470.48,259.09L470.75,267.02L471.84,290.66L472.11,287.04L472.38,291.15L472.65,277.41L473.47,260.93L473.74,269.25L474.01,244.75L474.55,263.31L474.82,257.74L475.37,262.37L475.64,258.92L475.91,258.99L476.45,254.32L476.72,272.15L477,266.67L477.54,269.95L477.81,267.63L478.08,262.7L478.35,264.83L478.63,267.16L478.9,272.15L479.44,271.6L479.71,261.54L479.98,262.99L480.25,273.42L481.07,283.26L481.34,279.88L481.61,278.69L482.15,277.63L482.43,283.65L482.7,285.77L482.97,284.22L483.24,286.23L483.51,276.17L483.78,279.15L484.05,272.91L484.87,278.31L485.14,277.22L486.5,282.65L486.77,282.39L487.04,281.46L487.31,282.83L487.58,276.47L488.94,257.29L489.21,219.75L489.48,221.94L489.76,215.92L490.03,215.79L490.3,207.67L490.57,192.67L490.84,217.01L491.38,209.1L491.93,192.12L492.2,197.6L492.47,192.35L492.74,195.04L493.01,188.89L493.29,206.31L493.56,199.53L493.83,192.4L494.1,192.76L494.37,189.43L494.64,188.24L494.91,176.7L496,198.42\" style=\"vector-effect: non-scaling-stroke; fill: none; stroke: rgb(44, 160, 44); stroke-opacity: 1; stroke-width: 2px; opacity: 1;\"/></g><g class=\"points\"/><g class=\"text\"/></g></g></g><g class=\"overplot\"/><path class=\"xlines-above crisp\" d=\"M0,0\" style=\"fill: none;\"/><path class=\"ylines-above crisp\" d=\"M0,0\" style=\"fill: none;\"/><g class=\"overlines-above\"/><g class=\"xaxislayer-above\"><g class=\"xtick\"><text text-anchor=\"middle\" x=\"0\" y=\"735\" transform=\"translate(115.84,0)\" style=\"font-family: 'Open Sans', verdana, arial, sans-serif; font-size: 14px; fill: rgb(42, 63, 95); fill-opacity: 1; white-space: pre; opacity: 1;\">2016</text></g><g class=\"xtick\"><text text-anchor=\"middle\" x=\"0\" y=\"735\" style=\"font-family: 'Open Sans', verdana, arial, sans-serif; font-size: 14px; fill: rgb(42, 63, 95); fill-opacity: 1; white-space: pre; opacity: 1;\" transform=\"translate(215.2,0)\">2017</text></g><g class=\"xtick\"><text text-anchor=\"middle\" x=\"0\" y=\"735\" style=\"font-family: 'Open Sans', verdana, arial, sans-serif; font-size: 14px; fill: rgb(42, 63, 95); fill-opacity: 1; white-space: pre; opacity: 1;\" transform=\"translate(314.28999999999996,0)\">2018</text></g><g class=\"xtick\"><text text-anchor=\"middle\" x=\"0\" y=\"735\" style=\"font-family: 'Open Sans', verdana, arial, sans-serif; font-size: 14px; fill: rgb(42, 63, 95); fill-opacity: 1; white-space: pre; opacity: 1;\" transform=\"translate(413.38,0)\">2019</text></g><g class=\"xtick\"><text text-anchor=\"middle\" x=\"0\" y=\"735\" style=\"font-family: 'Open Sans', verdana, arial, sans-serif; font-size: 14px; fill: rgb(42, 63, 95); fill-opacity: 1; white-space: pre; opacity: 1;\" transform=\"translate(512.47,0)\">2020</text></g></g><g class=\"yaxislayer-above\"><g class=\"ytick\"><text text-anchor=\"end\" x=\"79\" y=\"4.8999999999999995\" transform=\"translate(0,695.35)\" style=\"font-family: 'Open Sans', verdana, arial, sans-serif; font-size: 14px; fill: rgb(42, 63, 95); fill-opacity: 1; white-space: pre; opacity: 1;\">0</text></g><g class=\"ytick\"><text text-anchor=\"end\" x=\"79\" y=\"4.8999999999999995\" style=\"font-family: 'Open Sans', verdana, arial, sans-serif; font-size: 14px; fill: rgb(42, 63, 95); fill-opacity: 1; white-space: pre; opacity: 1;\" transform=\"translate(0,605)\">0.2M</text></g><g class=\"ytick\"><text text-anchor=\"end\" x=\"79\" y=\"4.8999999999999995\" style=\"font-family: 'Open Sans', verdana, arial, sans-serif; font-size: 14px; fill: rgb(42, 63, 95); fill-opacity: 1; white-space: pre; opacity: 1;\" transform=\"translate(0,514.64)\">0.4M</text></g><g class=\"ytick\"><text text-anchor=\"end\" x=\"79\" y=\"4.8999999999999995\" style=\"font-family: 'Open Sans', verdana, arial, sans-serif; font-size: 14px; fill: rgb(42, 63, 95); fill-opacity: 1; white-space: pre; opacity: 1;\" transform=\"translate(0,424.29)\">0.6M</text></g><g class=\"ytick\"><text text-anchor=\"end\" x=\"79\" y=\"4.8999999999999995\" style=\"font-family: 'Open Sans', verdana, arial, sans-serif; font-size: 14px; fill: rgb(42, 63, 95); fill-opacity: 1; white-space: pre; opacity: 1;\" transform=\"translate(0,333.94)\">0.8M</text></g><g class=\"ytick\"><text text-anchor=\"end\" x=\"79\" y=\"4.8999999999999995\" style=\"font-family: 'Open Sans', verdana, arial, sans-serif; font-size: 14px; fill: rgb(42, 63, 95); fill-opacity: 1; white-space: pre; opacity: 1;\" transform=\"translate(0,243.58)\">1M</text></g><g class=\"ytick\"><text text-anchor=\"end\" x=\"79\" y=\"4.8999999999999995\" style=\"font-family: 'Open Sans', verdana, arial, sans-serif; font-size: 14px; fill: rgb(42, 63, 95); fill-opacity: 1; white-space: pre; opacity: 1;\" transform=\"translate(0,153.23)\">1.2M</text></g></g><g class=\"overaxes-above\"/></g></g><g class=\"polarlayer\"/><g class=\"ternarylayer\"/><g class=\"geolayer\"/><g class=\"funnelarealayer\"/><g class=\"pielayer\"/><g class=\"iciclelayer\"/><g class=\"treemaplayer\"/><g class=\"sunburstlayer\"/><g class=\"glimages\"/><defs id=\"topdefs-b425fd\"><g class=\"clips\"/><clipPath id=\"legendb425fd\"><rect width=\"112\" height=\"67\" x=\"0\" y=\"0\"/></clipPath></defs><g class=\"layer-above\"><g class=\"imagelayer\"/><g class=\"shapelayer\"/></g><g class=\"infolayer\"><g class=\"legend\" pointer-events=\"all\" transform=\"translate(576,653)\"><rect class=\"bg\" shape-rendering=\"crispEdges\" style=\"stroke: rgb(255, 255, 255); stroke-opacity: 0; fill: rgb(255, 255, 255); fill-opacity: 0; stroke-width: 0px;\" width=\"112\" height=\"67\" x=\"0\" y=\"0\"/><g class=\"scrollbox\" transform=\"\" clip-path=\"url(#legendb425fd)\"><g class=\"groups\"><g class=\"traces\" transform=\"translate(0,14.5)\" style=\"opacity: 1;\"><text class=\"legendtext\" text-anchor=\"start\" x=\"40\" y=\"4.680000000000001\" style=\"font-family: 'Open Sans', verdana, arial, sans-serif; font-size: 12px; fill: rgb(42, 63, 95); fill-opacity: 1; white-space: pre;\">Close</text><g class=\"layers\" style=\"opacity: 1;\"><g class=\"legendfill\"/><g class=\"legendlines\"><path class=\"js-line\" d=\"M5,0h30\" style=\"fill: none; stroke: rgb(31, 119, 180); stroke-opacity: 1; stroke-width: 2px;\"/></g><g class=\"legendsymbols\"><g class=\"legendpoints\"/></g></g><rect class=\"legendtoggle\" x=\"0\" y=\"-9.5\" width=\"106.4375\" height=\"19\" style=\"fill: rgb(0, 0, 0); fill-opacity: 0;\"/></g><g class=\"traces\" transform=\"translate(0,33.5)\" style=\"opacity: 1;\"><text class=\"legendtext\" text-anchor=\"start\" x=\"40\" y=\"4.680000000000001\" style=\"font-family: 'Open Sans', verdana, arial, sans-serif; font-size: 12px; fill: rgb(42, 63, 95); fill-opacity: 1; white-space: pre;\">actual</text><g class=\"layers\" style=\"opacity: 1;\"><g class=\"legendfill\"/><g class=\"legendlines\"><path class=\"js-line\" d=\"M5,0h30\" style=\"fill: none; stroke: rgb(255, 127, 14); stroke-opacity: 1; stroke-width: 2px;\"/></g><g class=\"legendsymbols\"><g class=\"legendpoints\"/></g></g><rect class=\"legendtoggle\" x=\"0\" y=\"-9.5\" width=\"106.4375\" height=\"19\" style=\"fill: rgb(0, 0, 0); fill-opacity: 0;\"/></g><g class=\"traces\" transform=\"translate(0,52.5)\" style=\"opacity: 1;\"><text class=\"legendtext\" text-anchor=\"start\" x=\"40\" y=\"4.680000000000001\" style=\"font-family: 'Open Sans', verdana, arial, sans-serif; font-size: 12px; fill: rgb(42, 63, 95); fill-opacity: 1; white-space: pre;\">Predictions</text><g class=\"layers\" style=\"opacity: 1;\"><g class=\"legendfill\"/><g class=\"legendlines\"><path class=\"js-line\" d=\"M5,0h30\" style=\"fill: none; stroke: rgb(44, 160, 44); stroke-opacity: 1; stroke-width: 2px;\"/></g><g class=\"legendsymbols\"><g class=\"legendpoints\"/></g></g><rect class=\"legendtoggle\" x=\"0\" y=\"-9.5\" width=\"106.4375\" height=\"19\" style=\"fill: rgb(0, 0, 0); fill-opacity: 0;\"/></g></g></g><rect class=\"scrollbar\" rx=\"20\" ry=\"3\" width=\"0\" height=\"0\" style=\"fill: rgb(128, 139, 164); fill-opacity: 1;\" x=\"0\" y=\"0\"/></g><g class=\"g-gtitle\"><text class=\"gtitle\" x=\"35\" y=\"50\" text-anchor=\"start\" dy=\"0em\" style=\"font-family: 'Open Sans', verdana, arial, sans-serif; font-size: 28px; fill: rgb(42, 63, 95); opacity: 1; font-weight: normal; white-space: pre;\">Model</text></g><g class=\"g-xtitle\"><text class=\"xtitle\" x=\"328\" y=\"764.2\" text-anchor=\"middle\" style=\"font-family: 'Open Sans', verdana, arial, sans-serif; font-size: 16px; fill: rgb(42, 63, 95); opacity: 1; font-weight: normal; white-space: pre;\">Date</text></g><g class=\"g-ytitle\"><text class=\"ytitle\" transform=\"rotate(-90,18.096874999999997,410)\" x=\"18.096874999999997\" y=\"410\" text-anchor=\"middle\" style=\"font-family: 'Open Sans', verdana, arial, sans-serif; font-size: 16px; fill: rgb(42, 63, 95); opacity: 1; font-weight: normal; white-space: pre;\">Close price in INR (₹)</text></g></g></svg>"
      ]
     },
     "metadata": {},
     "output_type": "display_data"
    }
   ],
   "source": [
    "fig = go.Figure()\n",
    "fig.add_trace(go.Scatter(x = train.index, y = train.Close,mode='lines',name='Close',marker_color = '#1F77B4'))\n",
    "fig.add_trace(go.Scatter(x = valid.index, y = valid.Close,mode='lines',name='actual',marker_color = '#FF7F0E'))\n",
    "fig.add_trace(go.Scatter(x = valid.index, y = valid.Predictions,mode='lines',name='Predictions',marker_color = '#2CA02C'))\n",
    "\n",
    "fig.update_layout(title='Model',titlefont_size = 28,hovermode = 'x',\n",
    "                  xaxis = dict(title='Date',titlefont_size=16,tickfont_size=14),height = 800,\n",
    "                  yaxis=dict(title='Close price in INR (₹)',titlefont_size=16,tickfont_size=14),\n",
    "                  legend=dict(y=0,x=1.0,bgcolor='rgba(255, 255, 255, 0)',bordercolor='rgba(255, 255, 255, 0)'))\n",
    "#fig.show()\n",
    "fig.show(renderer=\"svg\")"
   ]
  },
  {
   "cell_type": "markdown",
   "id": "awful-jimmy",
   "metadata": {},
   "source": [
    "As you can see the predicted and actual prices are more or less the same"
   ]
  },
  {
   "cell_type": "code",
   "execution_count": null,
   "id": "decent-monte",
   "metadata": {},
   "outputs": [],
   "source": []
  }
 ],
 "metadata": {
  "kernelspec": {
   "display_name": "Python 3",
   "language": "python",
   "name": "python3"
  },
  "language_info": {
   "codemirror_mode": {
    "name": "ipython",
    "version": 3
   },
   "file_extension": ".py",
   "mimetype": "text/x-python",
   "name": "python",
   "nbconvert_exporter": "python",
   "pygments_lexer": "ipython3",
   "version": "3.8.5"
  }
 },
 "nbformat": 4,
 "nbformat_minor": 5
}
